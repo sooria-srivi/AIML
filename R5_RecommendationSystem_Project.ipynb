{
 "cells": [
  {
   "cell_type": "markdown",
   "metadata": {},
   "source": [
    "# DOMAIN: Smartphone, Electronics\n",
    "    \n",
    "• CONTEXT: India is the second largest market globally for smartphones after China. About 134 million smartphones were sold across India\n",
    "in the year 2017 and is estimated to increase to about 442 million in 2022. India ranked second in the average time spent on mobile web by\n",
    "smartphone users across Asia Pacific. The combination of very high sales volumes and the average smartphone consumer behaviour has\n",
    "made India a very attractive market for foreign vendors. As per Consumer behaviour, 97% of consumers turn to a search engine when they\n",
    "are buying a product vs. 15% who turn to social media. If a seller succeeds to publish smartphones based on user’s behaviour/choice at the\n",
    "right place, there are 90% chances that user will enquire for the same. This Case Study is targeted to build a recommendation system\n",
    "based on individual consumer’s behaviour or choice.\n",
    "\n",
    "• DATA DESCRIPTION:\n",
    "\n",
    "• author : name of the person who gave the rating\n",
    "\n",
    "• country : country the person who gave the rating belongs to\n",
    "\n",
    "• data : date of the rating\n",
    "\n",
    "• domain: website from which the rating was taken from\n",
    "\n",
    "• extract: rating content\n",
    "\n",
    "• language: language in which the rating was given\n",
    "\n",
    "• product: name of the product/mobile phone for which the rating was given\n",
    "\n",
    "• score: average rating for the phone\n",
    "\n",
    "• score_max: highest rating given for the phone\n",
    "\n",
    "• source: source from where the rating was taken\n",
    "\n",
    "*Data source:\n",
    "    \n",
    "• PROJECT OBJECTIVE: We will build a recommendation system using popularity based and collaborative filtering methods to recommend\n",
    "mobile phones to a user which are most popular and personalised respectively..\n"
   ]
  },
  {
   "cell_type": "markdown",
   "metadata": {},
   "source": [
    "# 1. Import the necessary libraries and read the provided CSVs as a data frame and perform the below steps.\n",
    "\n",
    "• Merge the provided csvs into one dataframe\n",
    "\n",
    "• Check a few observations and shape of the dataframe\n",
    "\n",
    "• Round off scores to the nearest integers\n",
    "\n",
    "• Check for missing values. Impute the missing values if there is any\n",
    "\n",
    "• Check for duplicate values and remove them if there is any\n",
    "\n",
    "• Keep only 1000000 data samples. Use random state=612\n",
    "\n",
    "• Drop irrelevant features. Keep features like Author, Product, and Score"
   ]
  },
  {
   "cell_type": "code",
   "execution_count": 625,
   "metadata": {},
   "outputs": [],
   "source": [
    "import numpy as np\n",
    "import pandas as pd\n",
    "import seaborn as sns \n",
    "import warnings\n",
    "from surprise.model_selection import train_test_split\n",
    "from surprise import SVD\n",
    "from surprise import accuracy\n",
    "from surprise import Dataset,Reader\n",
    "from surprise.model_selection import cross_validate\n",
    "from surprise import NormalPredictor\n",
    "from surprise import KNNWithMeans\n",
    "from surprise.model_selection import GridSearchCV\n",
    "from sklearn.metrics import make_scorer\n"
   ]
  },
  {
   "cell_type": "code",
   "execution_count": 626,
   "metadata": {},
   "outputs": [],
   "source": [
    "dfp1 = pd.read_csv(\"C:\\\\Users\\\\srivi\\\\Downloads\\\\R5 RS\\\\Dataset-20210112T043747Z-001\\\\Dataset\\\\phone_user_review_file_1.csv\" , error_bad_lines=False, encoding=\"latin-1\")\n",
    "dfp2 = pd.read_csv(\"C:\\\\Users\\\\srivi\\\\Downloads\\\\R5 RS\\\\Dataset-20210112T043747Z-001\\\\Dataset\\\\phone_user_review_file_2.csv\", error_bad_lines=False, encoding=\"latin-1\")\n",
    "dfp3 = pd.read_csv(\"C:\\\\Users\\\\srivi\\\\Downloads\\\\R5 RS\\\\Dataset-20210112T043747Z-001\\\\Dataset\\\\phone_user_review_file_3.csv\", error_bad_lines=False, encoding=\"latin-1\")\n",
    "dfp5 = pd.read_csv(\"C:\\\\Users\\\\srivi\\\\Downloads\\\\R5 RS\\\\Dataset-20210112T043747Z-001\\\\Dataset\\\\phone_user_review_file_5.csv\", error_bad_lines=False, encoding=\"latin-1\")\n",
    "dfp6 = pd.read_csv(\"C:\\\\Users\\\\srivi\\\\Downloads\\\\R5 RS\\\\Dataset-20210112T043747Z-001\\\\Dataset\\\\phone_user_review_file_6.csv\", error_bad_lines=False, encoding=\"latin-1\")"
   ]
  },
  {
   "cell_type": "code",
   "execution_count": 627,
   "metadata": {},
   "outputs": [
    {
     "name": "stdout",
     "output_type": "stream",
     "text": [
      "['phone_url' 'date' 'lang' 'country' 'source' 'domain' 'score' 'score_max'\n",
      " 'extract' 'author' 'product']\n",
      "['phone_url' 'date' 'lang' 'country' 'source' 'domain' 'score' 'score_max'\n",
      " 'extract' 'author' 'product']\n",
      "['phone_url' 'date' 'lang' 'country' 'source' 'domain' 'score' 'score_max'\n",
      " 'extract' 'author' 'product']\n",
      "['phone_url' 'date' 'lang' 'country' 'source' 'domain' 'score' 'score_max'\n",
      " 'extract' 'author' 'product']\n",
      "['phone_url' 'date' 'lang' 'country' 'source' 'domain' 'score' 'score_max'\n",
      " 'extract' 'author' 'product']\n",
      "Total # of records combined in all datasets -  1316849\n"
     ]
    }
   ],
   "source": [
    "print(dfp1.columns.values)\n",
    "print(dfp2.columns.values)\n",
    "print(dfp3.columns.values)\n",
    "print(dfp5.columns.values)\n",
    "print(dfp6.columns.values)\n",
    "print(\"Total # of records combined in all datasets - \", dfp1.shape[0] + dfp2.shape[0] + dfp3.shape[0] + dfp5.shape[0] + dfp6.shape[0])"
   ]
  },
  {
   "cell_type": "markdown",
   "metadata": {},
   "source": [
    "# Insight:\n",
    "Since all the datasets have same columns, appending all the data frames to a single data frame."
   ]
  },
  {
   "cell_type": "code",
   "execution_count": 628,
   "metadata": {},
   "outputs": [],
   "source": [
    "df = dfp1.append(dfp2,ignore_index=True).append(dfp3,ignore_index=True).append(dfp5, ignore_index=True).append(dfp6, ignore_index=True)"
   ]
  },
  {
   "cell_type": "code",
   "execution_count": 629,
   "metadata": {},
   "outputs": [
    {
     "data": {
      "text/html": [
       "<div>\n",
       "<style scoped>\n",
       "    .dataframe tbody tr th:only-of-type {\n",
       "        vertical-align: middle;\n",
       "    }\n",
       "\n",
       "    .dataframe tbody tr th {\n",
       "        vertical-align: top;\n",
       "    }\n",
       "\n",
       "    .dataframe thead th {\n",
       "        text-align: right;\n",
       "    }\n",
       "</style>\n",
       "<table border=\"1\" class=\"dataframe\">\n",
       "  <thead>\n",
       "    <tr style=\"text-align: right;\">\n",
       "      <th></th>\n",
       "      <th>phone_url</th>\n",
       "      <th>date</th>\n",
       "      <th>lang</th>\n",
       "      <th>country</th>\n",
       "      <th>source</th>\n",
       "      <th>domain</th>\n",
       "      <th>score</th>\n",
       "      <th>score_max</th>\n",
       "      <th>extract</th>\n",
       "      <th>author</th>\n",
       "      <th>product</th>\n",
       "    </tr>\n",
       "  </thead>\n",
       "  <tbody>\n",
       "    <tr>\n",
       "      <th>211716</th>\n",
       "      <td>/cellphones/blackberry-passport/</td>\n",
       "      <td>12/13/2014</td>\n",
       "      <td>en</td>\n",
       "      <td>us</td>\n",
       "      <td>Amazon</td>\n",
       "      <td>amazon.com</td>\n",
       "      <td>10.0</td>\n",
       "      <td>10.0</td>\n",
       "      <td>Probably the best Blackberry of ever. Just got...</td>\n",
       "      <td>gter1965</td>\n",
       "      <td>BlackBerry Passport Unlocked Phone - Retail Pa...</td>\n",
       "    </tr>\n",
       "    <tr>\n",
       "      <th>964921</th>\n",
       "      <td>/cellphones/blackberry-9700/</td>\n",
       "      <td>1/13/2012</td>\n",
       "      <td>ru</td>\n",
       "      <td>ru</td>\n",
       "      <td>Yandex</td>\n",
       "      <td>market.yandex.ru</td>\n",
       "      <td>2.0</td>\n",
       "      <td>10.0</td>\n",
       "      <td>ÐÑÐ¸ Ð¿ÐµÑÐ²Ð¾Ð¹ Ð¶Ðµ Ð²Ð¾Ð·Ð¼Ð¾Ð¶Ð½Ð¾ÑÑÐ...</td>\n",
       "      <td>unclestan</td>\n",
       "      <td>BlackBerry Bold 9700</td>\n",
       "    </tr>\n",
       "    <tr>\n",
       "      <th>87144</th>\n",
       "      <td>/cellphones/lg-v10/</td>\n",
       "      <td>1/14/2016</td>\n",
       "      <td>en</td>\n",
       "      <td>us</td>\n",
       "      <td>Amazon</td>\n",
       "      <td>amazon.com</td>\n",
       "      <td>8.0</td>\n",
       "      <td>10.0</td>\n",
       "      <td>I have been using it for 3 weeks. Great camera...</td>\n",
       "      <td>Amazon Customer</td>\n",
       "      <td>LG V10 H961N Factory Unlocked International Mo...</td>\n",
       "    </tr>\n",
       "    <tr>\n",
       "      <th>800619</th>\n",
       "      <td>/cellphones/samsung-galaxy-s-iii/</td>\n",
       "      <td>9/23/2014</td>\n",
       "      <td>de</td>\n",
       "      <td>de</td>\n",
       "      <td>Yopi</td>\n",
       "      <td>yopi.de</td>\n",
       "      <td>NaN</td>\n",
       "      <td>NaN</td>\n",
       "      <td>Handlung In dem Film geht es um ein Ehepaar mi...</td>\n",
       "      <td>miss_daisy414</td>\n",
       "      <td>Samsung Galaxy Express I8730</td>\n",
       "    </tr>\n",
       "    <tr>\n",
       "      <th>551700</th>\n",
       "      <td>/cellphones/huawei-ascend-g6/</td>\n",
       "      <td>12/27/2014</td>\n",
       "      <td>it</td>\n",
       "      <td>it</td>\n",
       "      <td>Amazon</td>\n",
       "      <td>amazon.it</td>\n",
       "      <td>4.0</td>\n",
       "      <td>10.0</td>\n",
       "      <td>il dispositivo pare concepito al contrario ......</td>\n",
       "      <td>Davide</td>\n",
       "      <td>Huawei Ascend G6 Smartphone, 4 GB, Bianco</td>\n",
       "    </tr>\n",
       "    <tr>\n",
       "      <th>23985</th>\n",
       "      <td>/cellphones/apple-iphone-6s-plus/</td>\n",
       "      <td>1/22/2016</td>\n",
       "      <td>it</td>\n",
       "      <td>it</td>\n",
       "      <td>Pixmania</td>\n",
       "      <td>pixmania.it</td>\n",
       "      <td>10.0</td>\n",
       "      <td>10.0</td>\n",
       "      <td>consegna velocissima, articolo in perfette con...</td>\n",
       "      <td>Gessica</td>\n",
       "      <td>APPLE iPhone 6S Plus - 64 GB - 4G - Argento</td>\n",
       "    </tr>\n",
       "    <tr>\n",
       "      <th>392952</th>\n",
       "      <td>/cellphones/doogee-x5-max-pro/</td>\n",
       "      <td>9/13/2016</td>\n",
       "      <td>es</td>\n",
       "      <td>es</td>\n",
       "      <td>Amazon</td>\n",
       "      <td>amazon.es</td>\n",
       "      <td>4.0</td>\n",
       "      <td>10.0</td>\n",
       "      <td>No estÃ¡ mal de prestaciones, funciona fluido,...</td>\n",
       "      <td>Luis Soto Manuel</td>\n",
       "      <td>Doogee X5 MAX PRO - Mejorado 2 GB de RAM + 16G...</td>\n",
       "    </tr>\n",
       "    <tr>\n",
       "      <th>635080</th>\n",
       "      <td>/cellphones/nokia-lumia-925/</td>\n",
       "      <td>12/13/2014</td>\n",
       "      <td>de</td>\n",
       "      <td>de</td>\n",
       "      <td>Amazon</td>\n",
       "      <td>amazon.de</td>\n",
       "      <td>8.0</td>\n",
       "      <td>10.0</td>\n",
       "      <td>Geschrieben wurde schon viel und ausfÃ¼hrlich ...</td>\n",
       "      <td>derdude1976</td>\n",
       "      <td>Microsoft Nokia Lumia 925 Smartphone (11,4 cm ...</td>\n",
       "    </tr>\n",
       "    <tr>\n",
       "      <th>1067730</th>\n",
       "      <td>/cellphones/acer-betouch-e130/</td>\n",
       "      <td>2/18/2012</td>\n",
       "      <td>ru</td>\n",
       "      <td>ru</td>\n",
       "      <td>Yandex</td>\n",
       "      <td>market.yandex.ru</td>\n",
       "      <td>10.0</td>\n",
       "      <td>10.0</td>\n",
       "      <td>ÐÐ¾Ð»Ð³Ð¾ Ð¼ÑÑÐ°Ð»Ð°ÑÑ Ñ ÑÑÐ¾Ð¹ Ð¼Ð¾Ð´...</td>\n",
       "      <td>nadeewa.elena</td>\n",
       "      <td>Acer beTouch E130</td>\n",
       "    </tr>\n",
       "    <tr>\n",
       "      <th>390876</th>\n",
       "      <td>/cellphones/google-pixel/</td>\n",
       "      <td>1/14/2017</td>\n",
       "      <td>en</td>\n",
       "      <td>us</td>\n",
       "      <td>Verizon Wireless</td>\n",
       "      <td>verizonwireless.com</td>\n",
       "      <td>10.0</td>\n",
       "      <td>10.0</td>\n",
       "      <td>I traded in a Note 4 and wanted the Pixel XL b...</td>\n",
       "      <td>clipwell</td>\n",
       "      <td>Google Pixel, Phone by Google</td>\n",
       "    </tr>\n",
       "  </tbody>\n",
       "</table>\n",
       "</div>"
      ],
      "text/plain": [
       "                                 phone_url        date lang country  \\\n",
       "211716    /cellphones/blackberry-passport/  12/13/2014   en      us   \n",
       "964921        /cellphones/blackberry-9700/   1/13/2012   ru      ru   \n",
       "87144                  /cellphones/lg-v10/   1/14/2016   en      us   \n",
       "800619   /cellphones/samsung-galaxy-s-iii/   9/23/2014   de      de   \n",
       "551700       /cellphones/huawei-ascend-g6/  12/27/2014   it      it   \n",
       "23985    /cellphones/apple-iphone-6s-plus/   1/22/2016   it      it   \n",
       "392952      /cellphones/doogee-x5-max-pro/   9/13/2016   es      es   \n",
       "635080        /cellphones/nokia-lumia-925/  12/13/2014   de      de   \n",
       "1067730     /cellphones/acer-betouch-e130/   2/18/2012   ru      ru   \n",
       "390876           /cellphones/google-pixel/   1/14/2017   en      us   \n",
       "\n",
       "                   source               domain  score  score_max  \\\n",
       "211716             Amazon           amazon.com   10.0       10.0   \n",
       "964921             Yandex     market.yandex.ru    2.0       10.0   \n",
       "87144              Amazon           amazon.com    8.0       10.0   \n",
       "800619              Yopi               yopi.de    NaN        NaN   \n",
       "551700             Amazon            amazon.it    4.0       10.0   \n",
       "23985            Pixmania          pixmania.it   10.0       10.0   \n",
       "392952             Amazon            amazon.es    4.0       10.0   \n",
       "635080             Amazon            amazon.de    8.0       10.0   \n",
       "1067730            Yandex     market.yandex.ru   10.0       10.0   \n",
       "390876   Verizon Wireless  verizonwireless.com   10.0       10.0   \n",
       "\n",
       "                                                   extract            author  \\\n",
       "211716   Probably the best Blackberry of ever. Just got...          gter1965   \n",
       "964921   ÐÑÐ¸ Ð¿ÐµÑÐ²Ð¾Ð¹ Ð¶Ðµ Ð²Ð¾Ð·Ð¼Ð¾Ð¶Ð½Ð¾ÑÑÐ...         unclestan   \n",
       "87144    I have been using it for 3 weeks. Great camera...   Amazon Customer   \n",
       "800619   Handlung In dem Film geht es um ein Ehepaar mi...     miss_daisy414   \n",
       "551700   il dispositivo pare concepito al contrario ......            Davide   \n",
       "23985    consegna velocissima, articolo in perfette con...           Gessica   \n",
       "392952   No estÃ¡ mal de prestaciones, funciona fluido,...  Luis Soto Manuel   \n",
       "635080   Geschrieben wurde schon viel und ausfÃ¼hrlich ...       derdude1976   \n",
       "1067730  ÐÐ¾Ð»Ð³Ð¾ Ð¼ÑÑÐ°Ð»Ð°ÑÑ Ñ ÑÑÐ¾Ð¹ Ð¼Ð¾Ð´...     nadeewa.elena   \n",
       "390876   I traded in a Note 4 and wanted the Pixel XL b...          clipwell   \n",
       "\n",
       "                                                   product  \n",
       "211716   BlackBerry Passport Unlocked Phone - Retail Pa...  \n",
       "964921                                BlackBerry Bold 9700  \n",
       "87144    LG V10 H961N Factory Unlocked International Mo...  \n",
       "800619                        Samsung Galaxy Express I8730  \n",
       "551700           Huawei Ascend G6 Smartphone, 4 GB, Bianco  \n",
       "23985          APPLE iPhone 6S Plus - 64 GB - 4G - Argento  \n",
       "392952   Doogee X5 MAX PRO - Mejorado 2 GB de RAM + 16G...  \n",
       "635080   Microsoft Nokia Lumia 925 Smartphone (11,4 cm ...  \n",
       "1067730                                  Acer beTouch E130  \n",
       "390876                       Google Pixel, Phone by Google  "
      ]
     },
     "execution_count": 629,
     "metadata": {},
     "output_type": "execute_result"
    }
   ],
   "source": [
    "df.sample(10)"
   ]
  },
  {
   "cell_type": "code",
   "execution_count": 630,
   "metadata": {},
   "outputs": [
    {
     "data": {
      "text/plain": [
       "(1316849, 11)"
      ]
     },
     "execution_count": 630,
     "metadata": {},
     "output_type": "execute_result"
    }
   ],
   "source": [
    "df.shape"
   ]
  },
  {
   "cell_type": "markdown",
   "metadata": {},
   "source": [
    "# Insight:\n",
    "\n",
    "After appending to a single data frame the # of records match the record count of all data sets combined together.\n",
    "\n",
    "There ate 1316849 records and 11 features"
   ]
  },
  {
   "cell_type": "code",
   "execution_count": 631,
   "metadata": {},
   "outputs": [
    {
     "data": {
      "text/html": [
       "<div>\n",
       "<style scoped>\n",
       "    .dataframe tbody tr th:only-of-type {\n",
       "        vertical-align: middle;\n",
       "    }\n",
       "\n",
       "    .dataframe tbody tr th {\n",
       "        vertical-align: top;\n",
       "    }\n",
       "\n",
       "    .dataframe thead th {\n",
       "        text-align: right;\n",
       "    }\n",
       "</style>\n",
       "<table border=\"1\" class=\"dataframe\">\n",
       "  <thead>\n",
       "    <tr style=\"text-align: right;\">\n",
       "      <th></th>\n",
       "      <th>phone_url</th>\n",
       "      <th>date</th>\n",
       "      <th>lang</th>\n",
       "      <th>country</th>\n",
       "      <th>source</th>\n",
       "      <th>domain</th>\n",
       "      <th>score</th>\n",
       "      <th>score_max</th>\n",
       "      <th>extract</th>\n",
       "      <th>author</th>\n",
       "      <th>product</th>\n",
       "    </tr>\n",
       "  </thead>\n",
       "  <tbody>\n",
       "    <tr>\n",
       "      <th>342</th>\n",
       "      <td>/cellphones/samsung-galaxy-s8/</td>\n",
       "      <td>4/26/2017</td>\n",
       "      <td>nl</td>\n",
       "      <td>nl</td>\n",
       "      <td>Coolblue</td>\n",
       "      <td>coolblue.nl</td>\n",
       "      <td>9.6</td>\n",
       "      <td>10.0</td>\n",
       "      <td>Ik vind het tot nu toe een heel erg aangenaam ...</td>\n",
       "      <td>Stefanie Hinneman</td>\n",
       "      <td>Samsung Galaxy S8 Zwart</td>\n",
       "    </tr>\n",
       "    <tr>\n",
       "      <th>343</th>\n",
       "      <td>/cellphones/samsung-galaxy-s8/</td>\n",
       "      <td>4/26/2017</td>\n",
       "      <td>nl</td>\n",
       "      <td>nl</td>\n",
       "      <td>Coolblue</td>\n",
       "      <td>coolblue.nl</td>\n",
       "      <td>9.6</td>\n",
       "      <td>10.0</td>\n",
       "      <td>Ik vind het tot nu toe een heel erg aangenaam ...</td>\n",
       "      <td>Stefanie Hinneman</td>\n",
       "      <td>Samsung Galaxy S8 Zwart</td>\n",
       "    </tr>\n",
       "    <tr>\n",
       "      <th>371</th>\n",
       "      <td>/cellphones/samsung-galaxy-s8/</td>\n",
       "      <td>4/25/2017</td>\n",
       "      <td>nl</td>\n",
       "      <td>nl</td>\n",
       "      <td>Coolblue</td>\n",
       "      <td>coolblue.nl</td>\n",
       "      <td>9.6</td>\n",
       "      <td>10.0</td>\n",
       "      <td>Tot nu toe in de eerste dagen weinig tot geen ...</td>\n",
       "      <td>Robin Winckens</td>\n",
       "      <td>Samsung Galaxy S8 Zwart</td>\n",
       "    </tr>\n",
       "    <tr>\n",
       "      <th>452</th>\n",
       "      <td>/cellphones/samsung-galaxy-s8/</td>\n",
       "      <td>4/25/2017</td>\n",
       "      <td>nl</td>\n",
       "      <td>nl</td>\n",
       "      <td>Coolblue</td>\n",
       "      <td>coolblue.nl</td>\n",
       "      <td>10.0</td>\n",
       "      <td>10.0</td>\n",
       "      <td>Wat een huge scherm!</td>\n",
       "      <td>B Yapar</td>\n",
       "      <td>Samsung Galaxy S8 Zwart</td>\n",
       "    </tr>\n",
       "    <tr>\n",
       "      <th>3718</th>\n",
       "      <td>/cellphones/samsung-galaxy-s6-edgeplus/</td>\n",
       "      <td>10/4/2015</td>\n",
       "      <td>en</td>\n",
       "      <td>us</td>\n",
       "      <td>Amazon</td>\n",
       "      <td>amazon.com</td>\n",
       "      <td>10.0</td>\n",
       "      <td>10.0</td>\n",
       "      <td>For readers, my opinions on this device (ATT 3...</td>\n",
       "      <td>FrozenCloud</td>\n",
       "      <td>Samsung Galaxy S6 Edge+, Black 64GB (Verizon W...</td>\n",
       "    </tr>\n",
       "    <tr>\n",
       "      <th>...</th>\n",
       "      <td>...</td>\n",
       "      <td>...</td>\n",
       "      <td>...</td>\n",
       "      <td>...</td>\n",
       "      <td>...</td>\n",
       "      <td>...</td>\n",
       "      <td>...</td>\n",
       "      <td>...</td>\n",
       "      <td>...</td>\n",
       "      <td>...</td>\n",
       "      <td>...</td>\n",
       "    </tr>\n",
       "    <tr>\n",
       "      <th>1299848</th>\n",
       "      <td>/cellphones/nokia-8850/</td>\n",
       "      <td>8/31/2010</td>\n",
       "      <td>ru</td>\n",
       "      <td>ru</td>\n",
       "      <td>Yandex</td>\n",
       "      <td>market.yandex.ru</td>\n",
       "      <td>10.0</td>\n",
       "      <td>10.0</td>\n",
       "      <td>ÐÑÐ¾ÑÑÐ¾ Ð¾ÑÐ»Ð¸ÑÐ½ÑÐ¹ ÑÐµÐ»ÐµÑÐ¾Ð½, ...</td>\n",
       "      <td>NaN</td>\n",
       "      <td>Nokia 8850</td>\n",
       "    </tr>\n",
       "    <tr>\n",
       "      <th>1299850</th>\n",
       "      <td>/cellphones/nokia-8850/</td>\n",
       "      <td>6/25/2010</td>\n",
       "      <td>ru</td>\n",
       "      <td>ru</td>\n",
       "      <td>Yandex</td>\n",
       "      <td>market.yandex.ru</td>\n",
       "      <td>10.0</td>\n",
       "      <td>10.0</td>\n",
       "      <td>ÐÐ° ÑÐ²Ð¾Ð¸ Ð´ÐµÐ½ÑÐ³Ð¸, 1000 Ð´Ð¾Ð»Ð»Ð°ÑÐ...</td>\n",
       "      <td>NaN</td>\n",
       "      <td>Nokia 8850</td>\n",
       "    </tr>\n",
       "    <tr>\n",
       "      <th>1311923</th>\n",
       "      <td>/cellphones/samsung-sgh-600/</td>\n",
       "      <td>4/30/2015</td>\n",
       "      <td>tr</td>\n",
       "      <td>tr</td>\n",
       "      <td>Cepworld</td>\n",
       "      <td>cepworld.com</td>\n",
       "      <td>NaN</td>\n",
       "      <td>NaN</td>\n",
       "      <td>varsa satan 05312614607</td>\n",
       "      <td>muhsin</td>\n",
       "      <td>Samsung (936) SGH-600</td>\n",
       "    </tr>\n",
       "    <tr>\n",
       "      <th>1313176</th>\n",
       "      <td>/cellphones/philips-genie-2000/</td>\n",
       "      <td>8/20/2000</td>\n",
       "      <td>it</td>\n",
       "      <td>it</td>\n",
       "      <td>Ciao</td>\n",
       "      <td>ciao.it</td>\n",
       "      <td>8.0</td>\n",
       "      <td>10.0</td>\n",
       "      <td>Il Genie e' un buon telefono, scorrimente del ...</td>\n",
       "      <td>tonyblack</td>\n",
       "      <td>Philips Genie 2000</td>\n",
       "    </tr>\n",
       "    <tr>\n",
       "      <th>1314666</th>\n",
       "      <td>/cellphones/motorola-m3888/</td>\n",
       "      <td>12/11/2000</td>\n",
       "      <td>it</td>\n",
       "      <td>it</td>\n",
       "      <td>Ciao</td>\n",
       "      <td>ciao.it</td>\n",
       "      <td>10.0</td>\n",
       "      <td>10.0</td>\n",
       "      <td>E' un telefonino qualitativamente ottimo sopra...</td>\n",
       "      <td>NaN</td>\n",
       "      <td>Motorola M3888</td>\n",
       "    </tr>\n",
       "  </tbody>\n",
       "</table>\n",
       "<p>5596 rows × 11 columns</p>\n",
       "</div>"
      ],
      "text/plain": [
       "                                       phone_url        date lang country  \\\n",
       "342               /cellphones/samsung-galaxy-s8/   4/26/2017   nl      nl   \n",
       "343               /cellphones/samsung-galaxy-s8/   4/26/2017   nl      nl   \n",
       "371               /cellphones/samsung-galaxy-s8/   4/25/2017   nl      nl   \n",
       "452               /cellphones/samsung-galaxy-s8/   4/25/2017   nl      nl   \n",
       "3718     /cellphones/samsung-galaxy-s6-edgeplus/   10/4/2015   en      us   \n",
       "...                                          ...         ...  ...     ...   \n",
       "1299848                  /cellphones/nokia-8850/   8/31/2010   ru      ru   \n",
       "1299850                  /cellphones/nokia-8850/   6/25/2010   ru      ru   \n",
       "1311923             /cellphones/samsung-sgh-600/   4/30/2015   tr      tr   \n",
       "1313176          /cellphones/philips-genie-2000/   8/20/2000   it      it   \n",
       "1314666              /cellphones/motorola-m3888/  12/11/2000   it      it   \n",
       "\n",
       "           source            domain  score  score_max  \\\n",
       "342      Coolblue       coolblue.nl    9.6       10.0   \n",
       "343      Coolblue       coolblue.nl    9.6       10.0   \n",
       "371      Coolblue       coolblue.nl    9.6       10.0   \n",
       "452      Coolblue       coolblue.nl   10.0       10.0   \n",
       "3718       Amazon        amazon.com   10.0       10.0   \n",
       "...           ...               ...    ...        ...   \n",
       "1299848    Yandex  market.yandex.ru   10.0       10.0   \n",
       "1299850    Yandex  market.yandex.ru   10.0       10.0   \n",
       "1311923  Cepworld      cepworld.com    NaN        NaN   \n",
       "1313176      Ciao           ciao.it    8.0       10.0   \n",
       "1314666      Ciao           ciao.it   10.0       10.0   \n",
       "\n",
       "                                                   extract             author  \\\n",
       "342      Ik vind het tot nu toe een heel erg aangenaam ...  Stefanie Hinneman   \n",
       "343      Ik vind het tot nu toe een heel erg aangenaam ...  Stefanie Hinneman   \n",
       "371      Tot nu toe in de eerste dagen weinig tot geen ...     Robin Winckens   \n",
       "452                                   Wat een huge scherm!            B Yapar   \n",
       "3718     For readers, my opinions on this device (ATT 3...        FrozenCloud   \n",
       "...                                                    ...                ...   \n",
       "1299848  ÐÑÐ¾ÑÑÐ¾ Ð¾ÑÐ»Ð¸ÑÐ½ÑÐ¹ ÑÐµÐ»ÐµÑÐ¾Ð½, ...                NaN   \n",
       "1299850  ÐÐ° ÑÐ²Ð¾Ð¸ Ð´ÐµÐ½ÑÐ³Ð¸, 1000 Ð´Ð¾Ð»Ð»Ð°ÑÐ...                NaN   \n",
       "1311923                            varsa satan 05312614607             muhsin   \n",
       "1313176  Il Genie e' un buon telefono, scorrimente del ...          tonyblack   \n",
       "1314666  E' un telefonino qualitativamente ottimo sopra...                NaN   \n",
       "\n",
       "                                                   product  \n",
       "342                                Samsung Galaxy S8 Zwart  \n",
       "343                                Samsung Galaxy S8 Zwart  \n",
       "371                                Samsung Galaxy S8 Zwart  \n",
       "452                                Samsung Galaxy S8 Zwart  \n",
       "3718     Samsung Galaxy S6 Edge+, Black 64GB (Verizon W...  \n",
       "...                                                    ...  \n",
       "1299848                                         Nokia 8850  \n",
       "1299850                                         Nokia 8850  \n",
       "1311923                              Samsung (936) SGH-600  \n",
       "1313176                                 Philips Genie 2000  \n",
       "1314666                                     Motorola M3888  \n",
       "\n",
       "[5596 rows x 11 columns]"
      ]
     },
     "execution_count": 631,
     "metadata": {},
     "output_type": "execute_result"
    }
   ],
   "source": [
    "df[df.duplicated()==True]"
   ]
  },
  {
   "cell_type": "code",
   "execution_count": 632,
   "metadata": {},
   "outputs": [],
   "source": [
    "df.drop_duplicates(keep='first',inplace=True)"
   ]
  },
  {
   "cell_type": "code",
   "execution_count": 633,
   "metadata": {},
   "outputs": [
    {
     "data": {
      "text/plain": [
       "(1311253, 11)"
      ]
     },
     "execution_count": 633,
     "metadata": {},
     "output_type": "execute_result"
    }
   ],
   "source": [
    "df.shape"
   ]
  },
  {
   "cell_type": "markdown",
   "metadata": {},
   "source": [
    "# Insight:\n",
    "\n",
    "There are 5596 duplicate records, removing from the data frame. Now there are 1311253 records."
   ]
  },
  {
   "cell_type": "code",
   "execution_count": 634,
   "metadata": {},
   "outputs": [
    {
     "data": {
      "text/plain": [
       "phone_url        0\n",
       "date             0\n",
       "lang             0\n",
       "country          0\n",
       "source           0\n",
       "domain           0\n",
       "score        58579\n",
       "score_max    58579\n",
       "extract      17629\n",
       "author       56341\n",
       "product          1\n",
       "dtype: int64"
      ]
     },
     "execution_count": 634,
     "metadata": {},
     "output_type": "execute_result"
    }
   ],
   "source": [
    "df.isnull().sum()"
   ]
  },
  {
   "cell_type": "code",
   "execution_count": 635,
   "metadata": {},
   "outputs": [],
   "source": [
    "df.dropna(subset = ['author','product'], inplace=True)"
   ]
  },
  {
   "cell_type": "code",
   "execution_count": 636,
   "metadata": {},
   "outputs": [
    {
     "data": {
      "text/plain": [
       "(1254912, 11)"
      ]
     },
     "execution_count": 636,
     "metadata": {},
     "output_type": "execute_result"
    }
   ],
   "source": [
    "df.shape"
   ]
  },
  {
   "cell_type": "code",
   "execution_count": 637,
   "metadata": {},
   "outputs": [
    {
     "data": {
      "text/plain": [
       "phone_url        0\n",
       "date             0\n",
       "lang             0\n",
       "country          0\n",
       "source           0\n",
       "domain           0\n",
       "score        56088\n",
       "score_max    56088\n",
       "extract      14241\n",
       "author           0\n",
       "product          0\n",
       "dtype: int64"
      ]
     },
     "execution_count": 637,
     "metadata": {},
     "output_type": "execute_result"
    }
   ],
   "source": [
    "df.isnull().sum()"
   ]
  },
  {
   "cell_type": "markdown",
   "metadata": {},
   "source": [
    "# Insight:\n",
    "    \n",
    "Dropped 56342 nan (author,product) records from the dataframe, now the dataframe holds 1254912 records."
   ]
  },
  {
   "cell_type": "code",
   "execution_count": 638,
   "metadata": {},
   "outputs": [
    {
     "data": {
      "text/html": [
       "<div>\n",
       "<style scoped>\n",
       "    .dataframe tbody tr th:only-of-type {\n",
       "        vertical-align: middle;\n",
       "    }\n",
       "\n",
       "    .dataframe tbody tr th {\n",
       "        vertical-align: top;\n",
       "    }\n",
       "\n",
       "    .dataframe thead th {\n",
       "        text-align: right;\n",
       "    }\n",
       "</style>\n",
       "<table border=\"1\" class=\"dataframe\">\n",
       "  <thead>\n",
       "    <tr style=\"text-align: right;\">\n",
       "      <th></th>\n",
       "      <th>phone_url</th>\n",
       "      <th>date</th>\n",
       "      <th>lang</th>\n",
       "      <th>country</th>\n",
       "      <th>source</th>\n",
       "      <th>domain</th>\n",
       "      <th>score</th>\n",
       "      <th>score_max</th>\n",
       "      <th>extract</th>\n",
       "      <th>author</th>\n",
       "      <th>product</th>\n",
       "    </tr>\n",
       "  </thead>\n",
       "  <tbody>\n",
       "    <tr>\n",
       "      <th>14726</th>\n",
       "      <td>/cellphones/samsung-galaxy-s7-edge/</td>\n",
       "      <td>5/9/2017</td>\n",
       "      <td>nl</td>\n",
       "      <td>nl</td>\n",
       "      <td>Bol.com</td>\n",
       "      <td>bol.com</td>\n",
       "      <td>10.0</td>\n",
       "      <td>10.0</td>\n",
       "      <td>Goed product. Goede prijs kwaliteit verhouding...</td>\n",
       "      <td>unknown</td>\n",
       "      <td>Samsung Samsung Galaxy A5 2016 - Wit</td>\n",
       "    </tr>\n",
       "    <tr>\n",
       "      <th>14755</th>\n",
       "      <td>/cellphones/samsung-galaxy-s7-edge/</td>\n",
       "      <td>5/3/2017</td>\n",
       "      <td>nl</td>\n",
       "      <td>nl</td>\n",
       "      <td>Bol.com</td>\n",
       "      <td>bol.com</td>\n",
       "      <td>10.0</td>\n",
       "      <td>10.0</td>\n",
       "      <td>Ik ben zeer tevreden met mijn aanschaf van de ...</td>\n",
       "      <td>unknown</td>\n",
       "      <td>Samsung Samsung Galaxy A5 2016 - Wit</td>\n",
       "    </tr>\n",
       "    <tr>\n",
       "      <th>14756</th>\n",
       "      <td>/cellphones/samsung-galaxy-s7-edge/</td>\n",
       "      <td>5/3/2017</td>\n",
       "      <td>nl</td>\n",
       "      <td>be</td>\n",
       "      <td>Vandenborre</td>\n",
       "      <td>vandenborre.be</td>\n",
       "      <td>10.0</td>\n",
       "      <td>10.0</td>\n",
       "      <td>Voldoet volledig aan mijn verwachting voor een...</td>\n",
       "      <td>unknown</td>\n",
       "      <td>SAMSUNG GALAXY S7 EDGE BLACK</td>\n",
       "    </tr>\n",
       "    <tr>\n",
       "      <th>14757</th>\n",
       "      <td>/cellphones/samsung-galaxy-s7-edge/</td>\n",
       "      <td>5/3/2017</td>\n",
       "      <td>nl</td>\n",
       "      <td>nl</td>\n",
       "      <td>Bol.com</td>\n",
       "      <td>bol.com</td>\n",
       "      <td>10.0</td>\n",
       "      <td>10.0</td>\n",
       "      <td>mooie telefoon, helder beeld veel mogelijkhede...</td>\n",
       "      <td>unknown</td>\n",
       "      <td>Samsung Samsung Galaxy S7 edge - 32GB - Roze</td>\n",
       "    </tr>\n",
       "    <tr>\n",
       "      <th>14763</th>\n",
       "      <td>/cellphones/samsung-galaxy-s7-edge/</td>\n",
       "      <td>5/2/2017</td>\n",
       "      <td>nl</td>\n",
       "      <td>nl</td>\n",
       "      <td>Bol.com</td>\n",
       "      <td>bol.com</td>\n",
       "      <td>8.0</td>\n",
       "      <td>10.0</td>\n",
       "      <td>Deze mobiel doet alles wat ik ervan verwacht. ...</td>\n",
       "      <td>unknown</td>\n",
       "      <td>Samsung Samsung Galaxy A5 2016 - Wit</td>\n",
       "    </tr>\n",
       "    <tr>\n",
       "      <th>...</th>\n",
       "      <td>...</td>\n",
       "      <td>...</td>\n",
       "      <td>...</td>\n",
       "      <td>...</td>\n",
       "      <td>...</td>\n",
       "      <td>...</td>\n",
       "      <td>...</td>\n",
       "      <td>...</td>\n",
       "      <td>...</td>\n",
       "      <td>...</td>\n",
       "      <td>...</td>\n",
       "    </tr>\n",
       "    <tr>\n",
       "      <th>1228466</th>\n",
       "      <td>/cellphones/samsung-sync-sgh-a707/</td>\n",
       "      <td>12/30/2007</td>\n",
       "      <td>en</td>\n",
       "      <td>us</td>\n",
       "      <td>Phone Arena</td>\n",
       "      <td>phonearena.com</td>\n",
       "      <td>2.6</td>\n",
       "      <td>10.0</td>\n",
       "      <td>this phone has had alot of issues with overhea...</td>\n",
       "      <td>unknown</td>\n",
       "      <td>Samsung Sync</td>\n",
       "    </tr>\n",
       "    <tr>\n",
       "      <th>1244774</th>\n",
       "      <td>/cellphones/motorola-sidekick-slide/</td>\n",
       "      <td>12/2/2007</td>\n",
       "      <td>en</td>\n",
       "      <td>us</td>\n",
       "      <td>Amazon</td>\n",
       "      <td>amazon.com</td>\n",
       "      <td>10.0</td>\n",
       "      <td>10.0</td>\n",
       "      <td>This was brand new like they said and there ha...</td>\n",
       "      <td>unknown</td>\n",
       "      <td>Motorola T-Mobile Motorola sidekick Q700 - SLI...</td>\n",
       "    </tr>\n",
       "    <tr>\n",
       "      <th>1247866</th>\n",
       "      <td>/cellphones/lg-cu400-cu405/</td>\n",
       "      <td>12/30/2007</td>\n",
       "      <td>en</td>\n",
       "      <td>us</td>\n",
       "      <td>Phone Arena</td>\n",
       "      <td>phonearena.com</td>\n",
       "      <td>2.0</td>\n",
       "      <td>10.0</td>\n",
       "      <td>this phone drops calls everywhere nothing but ...</td>\n",
       "      <td>unknown</td>\n",
       "      <td>LG CU400 / CU405</td>\n",
       "    </tr>\n",
       "    <tr>\n",
       "      <th>1293274</th>\n",
       "      <td>/cellphones/samsung-sgh-d415msatmb/</td>\n",
       "      <td>7/24/2005</td>\n",
       "      <td>en</td>\n",
       "      <td>us</td>\n",
       "      <td>Phone Arena</td>\n",
       "      <td>phonearena.com</td>\n",
       "      <td>5.8</td>\n",
       "      <td>10.0</td>\n",
       "      <td>I guess this phone is good, yeah it doesnt hav...</td>\n",
       "      <td>unknown</td>\n",
       "      <td>Samsung SGH-D415</td>\n",
       "    </tr>\n",
       "    <tr>\n",
       "      <th>1309448</th>\n",
       "      <td>/cellphones/lg-vx-3200/</td>\n",
       "      <td>3/12/2005</td>\n",
       "      <td>en</td>\n",
       "      <td>us</td>\n",
       "      <td>Phone Arena</td>\n",
       "      <td>phonearena.com</td>\n",
       "      <td>6.0</td>\n",
       "      <td>10.0</td>\n",
       "      <td>the lg 3200 suks. You can not get any good gam...</td>\n",
       "      <td>unknown</td>\n",
       "      <td>LG 3200 / G3200 / VX3200</td>\n",
       "    </tr>\n",
       "  </tbody>\n",
       "</table>\n",
       "<p>1724 rows × 11 columns</p>\n",
       "</div>"
      ],
      "text/plain": [
       "                                    phone_url        date lang country  \\\n",
       "14726     /cellphones/samsung-galaxy-s7-edge/    5/9/2017   nl      nl   \n",
       "14755     /cellphones/samsung-galaxy-s7-edge/    5/3/2017   nl      nl   \n",
       "14756     /cellphones/samsung-galaxy-s7-edge/    5/3/2017   nl      be   \n",
       "14757     /cellphones/samsung-galaxy-s7-edge/    5/3/2017   nl      nl   \n",
       "14763     /cellphones/samsung-galaxy-s7-edge/    5/2/2017   nl      nl   \n",
       "...                                       ...         ...  ...     ...   \n",
       "1228466    /cellphones/samsung-sync-sgh-a707/  12/30/2007   en      us   \n",
       "1244774  /cellphones/motorola-sidekick-slide/   12/2/2007   en      us   \n",
       "1247866           /cellphones/lg-cu400-cu405/  12/30/2007   en      us   \n",
       "1293274   /cellphones/samsung-sgh-d415msatmb/   7/24/2005   en      us   \n",
       "1309448               /cellphones/lg-vx-3200/   3/12/2005   en      us   \n",
       "\n",
       "              source          domain  score  score_max  \\\n",
       "14726        Bol.com         bol.com   10.0       10.0   \n",
       "14755        Bol.com         bol.com   10.0       10.0   \n",
       "14756    Vandenborre  vandenborre.be   10.0       10.0   \n",
       "14757        Bol.com         bol.com   10.0       10.0   \n",
       "14763        Bol.com         bol.com    8.0       10.0   \n",
       "...              ...             ...    ...        ...   \n",
       "1228466  Phone Arena  phonearena.com    2.6       10.0   \n",
       "1244774       Amazon      amazon.com   10.0       10.0   \n",
       "1247866  Phone Arena  phonearena.com    2.0       10.0   \n",
       "1293274  Phone Arena  phonearena.com    5.8       10.0   \n",
       "1309448  Phone Arena  phonearena.com    6.0       10.0   \n",
       "\n",
       "                                                   extract   author  \\\n",
       "14726    Goed product. Goede prijs kwaliteit verhouding...  unknown   \n",
       "14755    Ik ben zeer tevreden met mijn aanschaf van de ...  unknown   \n",
       "14756    Voldoet volledig aan mijn verwachting voor een...  unknown   \n",
       "14757    mooie telefoon, helder beeld veel mogelijkhede...  unknown   \n",
       "14763    Deze mobiel doet alles wat ik ervan verwacht. ...  unknown   \n",
       "...                                                    ...      ...   \n",
       "1228466  this phone has had alot of issues with overhea...  unknown   \n",
       "1244774  This was brand new like they said and there ha...  unknown   \n",
       "1247866  this phone drops calls everywhere nothing but ...  unknown   \n",
       "1293274  I guess this phone is good, yeah it doesnt hav...  unknown   \n",
       "1309448  the lg 3200 suks. You can not get any good gam...  unknown   \n",
       "\n",
       "                                                   product  \n",
       "14726                 Samsung Samsung Galaxy A5 2016 - Wit  \n",
       "14755                 Samsung Samsung Galaxy A5 2016 - Wit  \n",
       "14756                         SAMSUNG GALAXY S7 EDGE BLACK  \n",
       "14757         Samsung Samsung Galaxy S7 edge - 32GB - Roze  \n",
       "14763                 Samsung Samsung Galaxy A5 2016 - Wit  \n",
       "...                                                    ...  \n",
       "1228466                                       Samsung Sync  \n",
       "1244774  Motorola T-Mobile Motorola sidekick Q700 - SLI...  \n",
       "1247866                                   LG CU400 / CU405  \n",
       "1293274                                   Samsung SGH-D415  \n",
       "1309448                           LG 3200 / G3200 / VX3200  \n",
       "\n",
       "[1724 rows x 11 columns]"
      ]
     },
     "execution_count": 638,
     "metadata": {},
     "output_type": "execute_result"
    }
   ],
   "source": [
    "df[df['author']=='unknown']"
   ]
  },
  {
   "cell_type": "code",
   "execution_count": 639,
   "metadata": {},
   "outputs": [
    {
     "data": {
      "text/plain": [
       "755271"
      ]
     },
     "execution_count": 639,
     "metadata": {},
     "output_type": "execute_result"
    }
   ],
   "source": [
    "len(df[\"author\"].unique())"
   ]
  },
  {
   "cell_type": "code",
   "execution_count": 640,
   "metadata": {},
   "outputs": [],
   "source": [
    "df_p = df.sample(n=1000000,random_state=612)"
   ]
  },
  {
   "cell_type": "code",
   "execution_count": 641,
   "metadata": {},
   "outputs": [
    {
     "data": {
      "text/plain": [
       "(1000000, 11)"
      ]
     },
     "execution_count": 641,
     "metadata": {},
     "output_type": "execute_result"
    }
   ],
   "source": [
    "df_p.shape"
   ]
  },
  {
   "cell_type": "code",
   "execution_count": 642,
   "metadata": {},
   "outputs": [
    {
     "data": {
      "text/plain": [
       "<matplotlib.axes._subplots.AxesSubplot at 0x248d6ce78b0>"
      ]
     },
     "execution_count": 642,
     "metadata": {},
     "output_type": "execute_result"
    },
    {
     "data": {
      "image/png": "[encoded data removed]",
      "text/plain": [
       "<Figure size 432x288 with 1 Axes>"
      ]
     },
     "metadata": {
      "needs_background": "light"
     },
     "output_type": "display_data"
    }
   ],
   "source": [
    "sns.countplot(x=\"score_max\", data=df_p)"
   ]
  },
  {
   "cell_type": "code",
   "execution_count": 643,
   "metadata": {},
   "outputs": [],
   "source": [
    "df_ph = df_p.drop(labels=['phone_url', 'date', 'lang', 'country', 'source', 'domain', 'extract', 'score_max'], axis=1)"
   ]
  },
  {
   "cell_type": "code",
   "execution_count": 644,
   "metadata": {},
   "outputs": [
    {
     "data": {
      "text/plain": [
       "array(['score', 'author', 'product'], dtype=object)"
      ]
     },
     "execution_count": 644,
     "metadata": {},
     "output_type": "execute_result"
    }
   ],
   "source": [
    "df_ph.columns.values"
   ]
  },
  {
   "cell_type": "markdown",
   "metadata": {},
   "source": [
    "# Insight:\n",
    "\n",
    "Dropped all irrelevent features from dataframe.\n",
    "\n",
    "Dropped score_max as all the records have same values\n",
    "\n",
    "Reduced the sample size to 1000000"
   ]
  },
  {
   "cell_type": "code",
   "execution_count": 645,
   "metadata": {},
   "outputs": [
    {
     "data": {
      "text/plain": [
       "score      44759\n",
       "author         0\n",
       "product        0\n",
       "dtype: int64"
      ]
     },
     "execution_count": 645,
     "metadata": {},
     "output_type": "execute_result"
    }
   ],
   "source": [
    "df_ph.isnull().sum()"
   ]
  },
  {
   "cell_type": "code",
   "execution_count": 646,
   "metadata": {},
   "outputs": [],
   "source": [
    "df_ph['score'].replace(to_replace= np.nan, value=0, inplace=True)"
   ]
  },
  {
   "cell_type": "code",
   "execution_count": 647,
   "metadata": {},
   "outputs": [
    {
     "data": {
      "text/plain": [
       "score      0\n",
       "author     0\n",
       "product    0\n",
       "dtype: int64"
      ]
     },
     "execution_count": 647,
     "metadata": {},
     "output_type": "execute_result"
    }
   ],
   "source": [
    "df_ph.isnull().sum()"
   ]
  },
  {
   "cell_type": "code",
   "execution_count": 648,
   "metadata": {},
   "outputs": [],
   "source": [
    "df_ph['score'] = df_ph['score'].round(0)"
   ]
  },
  {
   "cell_type": "code",
   "execution_count": 649,
   "metadata": {},
   "outputs": [
    {
     "data": {
      "text/plain": [
       "<matplotlib.axes._subplots.AxesSubplot at 0x248e0420370>"
      ]
     },
     "execution_count": 649,
     "metadata": {},
     "output_type": "execute_result"
    },
    {
     "data": {
      "image/png": "[encoded data removed]",
      "text/plain": [
       "<Figure size 432x288 with 1 Axes>"
      ]
     },
     "metadata": {
      "needs_background": "light"
     },
     "output_type": "display_data"
    }
   ],
   "source": [
    "sns.countplot(x=\"score\", data=df_ph)"
   ]
  },
  {
   "cell_type": "markdown",
   "metadata": {},
   "source": [
    "# Insight:\n",
    "\n",
    "Rounded off the score to integer values. \n",
    "\n",
    "Replaced nan values in score to 0 as it will be predicted later by recommendation system alg\n",
    "\n",
    "There are no null values in user and item."
   ]
  },
  {
   "cell_type": "markdown",
   "metadata": {},
   "source": [
    "# 2. Answer the following questions\n",
    "\n",
    "• Identify the most rated features\n",
    "\n",
    "• Identify the users with most number of reviews\n",
    "\n",
    "• Select the data with products having more than 50 ratings and users who have given more than 50 ratings. Report the shape of the final\n",
    "dataset."
   ]
  },
  {
   "cell_type": "code",
   "execution_count": 650,
   "metadata": {},
   "outputs": [
    {
     "data": {
      "text/plain": [
       "product\n",
       "Nokia 6282                                                                  10.0\n",
       "HTC ÐÐ¾Ð±Ð¸Ð»ÑÐ½ÑÐ¹ ÑÐµÐ»ÐµÑÐ¾Ð½ HTC One E8 dual sim                   10.0\n",
       "HUAWEI - Smartphone P9 Lite blanc                                           10.0\n",
       "HUAWEI ASCEND P9 LITE PINK                                                  10.0\n",
       "Samsung S5570i Galaxy                                                       10.0\n",
       "Samsung S5570 Galaxy Mini on O2 Pay As You Go with ÃÂ£10 airtime credit    10.0\n",
       "HUAWEI Ascend G610 (White)                                                  10.0\n",
       "HUAWEI Ascend G620s white Android Smartphone                                10.0\n",
       "Samsung S5560 Player 5 Rose - TÃ©lÃ©phone Mobile                            10.0\n",
       "HUAWEI Ascend G7 - 4G - negro - Smartphone                                  10.0\n",
       "Name: score, dtype: float64"
      ]
     },
     "execution_count": 650,
     "metadata": {},
     "output_type": "execute_result"
    }
   ],
   "source": [
    "df_ph.groupby('product')['score'].mean().sort_values(ascending=False).head(10)  "
   ]
  },
  {
   "cell_type": "markdown",
   "metadata": {},
   "source": [
    "# Insight:\n",
    "\n",
    "Grouped by product and calculating the mean of score (rating) and sorting the records in descending order will give top rated products. Here showing only 10 products"
   ]
  },
  {
   "cell_type": "code",
   "execution_count": 651,
   "metadata": {},
   "outputs": [],
   "source": [
    "#df_ph.groupby('author')['score'].count().sort_values(ascending=False).head(10)"
   ]
  },
  {
   "cell_type": "code",
   "execution_count": 652,
   "metadata": {},
   "outputs": [],
   "source": [
    "df_ph['is_user_rated'] = np.where(df_ph['score']==0,0,1)"
   ]
  },
  {
   "cell_type": "code",
   "execution_count": 653,
   "metadata": {},
   "outputs": [
    {
     "data": {
      "text/html": [
       "<div>\n",
       "<style scoped>\n",
       "    .dataframe tbody tr th:only-of-type {\n",
       "        vertical-align: middle;\n",
       "    }\n",
       "\n",
       "    .dataframe tbody tr th {\n",
       "        vertical-align: top;\n",
       "    }\n",
       "\n",
       "    .dataframe thead th {\n",
       "        text-align: right;\n",
       "    }\n",
       "</style>\n",
       "<table border=\"1\" class=\"dataframe\">\n",
       "  <thead>\n",
       "    <tr style=\"text-align: right;\">\n",
       "      <th></th>\n",
       "      <th>score</th>\n",
       "      <th>author</th>\n",
       "      <th>product</th>\n",
       "      <th>is_user_rated</th>\n",
       "    </tr>\n",
       "  </thead>\n",
       "  <tbody>\n",
       "    <tr>\n",
       "      <th>1209277</th>\n",
       "      <td>10.0</td>\n",
       "      <td>jetaudio77</td>\n",
       "      <td>enV VX-9900</td>\n",
       "      <td>1</td>\n",
       "    </tr>\n",
       "    <tr>\n",
       "      <th>1146531</th>\n",
       "      <td>4.0</td>\n",
       "      <td>Der Fanta</td>\n",
       "      <td>Samsung SGH-L700 silber Handy</td>\n",
       "      <td>1</td>\n",
       "    </tr>\n",
       "    <tr>\n",
       "      <th>787570</th>\n",
       "      <td>4.0</td>\n",
       "      <td>Graham</td>\n",
       "      <td>Nokia Lumia 920, 32Gb, Sim Free Windows Smartp...</td>\n",
       "      <td>1</td>\n",
       "    </tr>\n",
       "    <tr>\n",
       "      <th>41306</th>\n",
       "      <td>10.0</td>\n",
       "      <td>Robbie76</td>\n",
       "      <td>Apple iPhone 6s, 32Gb - Rose Gold</td>\n",
       "      <td>1</td>\n",
       "    </tr>\n",
       "    <tr>\n",
       "      <th>889962</th>\n",
       "      <td>2.0</td>\n",
       "      <td>Shar</td>\n",
       "      <td>Apple iPhone 4 16GB (Black) - AT&amp;T</td>\n",
       "      <td>1</td>\n",
       "    </tr>\n",
       "    <tr>\n",
       "      <th>976187</th>\n",
       "      <td>6.0</td>\n",
       "      <td>wilde Nico</td>\n",
       "      <td>Samsung Galaxy Xcover oranje, zwart - Overzicht</td>\n",
       "      <td>1</td>\n",
       "    </tr>\n",
       "    <tr>\n",
       "      <th>209289</th>\n",
       "      <td>6.0</td>\n",
       "      <td>Kiran</td>\n",
       "      <td>Asus Zenfone Selfie ZD551KL (Tiffany Blue, 32GB)</td>\n",
       "      <td>1</td>\n",
       "    </tr>\n",
       "    <tr>\n",
       "      <th>1176985</th>\n",
       "      <td>10.0</td>\n",
       "      <td>34da5187</td>\n",
       "      <td>NOKIA 8800 ARTE CEP TELEFONU</td>\n",
       "      <td>1</td>\n",
       "    </tr>\n",
       "    <tr>\n",
       "      <th>739119</th>\n",
       "      <td>2.0</td>\n",
       "      <td>Lyuben Krassini</td>\n",
       "      <td>Huawei Ascend Y300 Smartphone (10,2 cm (4,0 Zo...</td>\n",
       "      <td>1</td>\n",
       "    </tr>\n",
       "    <tr>\n",
       "      <th>1076289</th>\n",
       "      <td>6.0</td>\n",
       "      <td>Jeannette D</td>\n",
       "      <td>Nokia 6350 Phone, Red (AT&amp;T)</td>\n",
       "      <td>1</td>\n",
       "    </tr>\n",
       "  </tbody>\n",
       "</table>\n",
       "</div>"
      ],
      "text/plain": [
       "         score           author  \\\n",
       "1209277   10.0       jetaudio77   \n",
       "1146531    4.0        Der Fanta   \n",
       "787570     4.0           Graham   \n",
       "41306     10.0         Robbie76   \n",
       "889962     2.0             Shar   \n",
       "976187     6.0       wilde Nico   \n",
       "209289     6.0            Kiran   \n",
       "1176985   10.0         34da5187   \n",
       "739119     2.0  Lyuben Krassini   \n",
       "1076289    6.0      Jeannette D   \n",
       "\n",
       "                                                   product  is_user_rated  \n",
       "1209277                                        enV VX-9900              1  \n",
       "1146531                      Samsung SGH-L700 silber Handy              1  \n",
       "787570   Nokia Lumia 920, 32Gb, Sim Free Windows Smartp...              1  \n",
       "41306                    Apple iPhone 6s, 32Gb - Rose Gold              1  \n",
       "889962                  Apple iPhone 4 16GB (Black) - AT&T              1  \n",
       "976187     Samsung Galaxy Xcover oranje, zwart - Overzicht              1  \n",
       "209289    Asus Zenfone Selfie ZD551KL (Tiffany Blue, 32GB)              1  \n",
       "1176985                       NOKIA 8800 ARTE CEP TELEFONU              1  \n",
       "739119   Huawei Ascend Y300 Smartphone (10,2 cm (4,0 Zo...              1  \n",
       "1076289                       Nokia 6350 Phone, Red (AT&T)              1  "
      ]
     },
     "execution_count": 653,
     "metadata": {},
     "output_type": "execute_result"
    }
   ],
   "source": [
    "df_ph.sample(10)"
   ]
  },
  {
   "cell_type": "code",
   "execution_count": 654,
   "metadata": {},
   "outputs": [
    {
     "data": {
      "text/plain": [
       "author\n",
       "Amazon Customer    59293\n",
       "Cliente Amazon     15172\n",
       "e-bit               6607\n",
       "Client d'Amazon     6020\n",
       "Amazon Kunde        3725\n",
       "Anonymous           2084\n",
       "einer Kundin        2057\n",
       "einem Kunden        1541\n",
       "unknown             1379\n",
       "Anonymous           1113\n",
       "Name: is_user_rated, dtype: int32"
      ]
     },
     "execution_count": 654,
     "metadata": {},
     "output_type": "execute_result"
    }
   ],
   "source": [
    "df_ph.groupby('author')['is_user_rated'].sum().sort_values(ascending=False).head(10)"
   ]
  },
  {
   "cell_type": "markdown",
   "metadata": {},
   "source": [
    "# Insight:\n",
    "First adding a column - is_user_rated and imputing 1 if the score is > 0 else 1.\n",
    "Grouping the user and calculating the sum of is_user_rated column and sorting the values based on the count in descending gives the users with most # of reviews. Showing the first 10 records."
   ]
  },
  {
   "cell_type": "code",
   "execution_count": 655,
   "metadata": {},
   "outputs": [],
   "source": [
    "lu= pd.DataFrame(df_ph.groupby('author')['is_user_rated'].sum())\n",
    "luu = (lu>50).index.tolist()\n",
    "\n",
    "li = pd.DataFrame(df_ph.groupby('product')['is_user_rated'].sum())\n",
    "lii = (li>50).index.tolist()\n",
    "\n",
    "df_u_i = df_ph[df_ph['author'].isin(luu)]\n",
    "df_u_i2 = df_ph[df_ph['product'].isin(lii)]"
   ]
  },
  {
   "cell_type": "code",
   "execution_count": 656,
   "metadata": {},
   "outputs": [
    {
     "data": {
      "text/html": [
       "<div>\n",
       "<style scoped>\n",
       "    .dataframe tbody tr th:only-of-type {\n",
       "        vertical-align: middle;\n",
       "    }\n",
       "\n",
       "    .dataframe tbody tr th {\n",
       "        vertical-align: top;\n",
       "    }\n",
       "\n",
       "    .dataframe thead th {\n",
       "        text-align: right;\n",
       "    }\n",
       "</style>\n",
       "<table border=\"1\" class=\"dataframe\">\n",
       "  <thead>\n",
       "    <tr style=\"text-align: right;\">\n",
       "      <th></th>\n",
       "      <th>score</th>\n",
       "      <th>author</th>\n",
       "      <th>product</th>\n",
       "      <th>is_user_rated</th>\n",
       "    </tr>\n",
       "  </thead>\n",
       "  <tbody>\n",
       "    <tr>\n",
       "      <th>1194682</th>\n",
       "      <td>10.0</td>\n",
       "      <td>Konstantin</td>\n",
       "      <td>Motorola MOTOROKER E8 Unlocked Phone with 2 GB...</td>\n",
       "      <td>1</td>\n",
       "    </tr>\n",
       "    <tr>\n",
       "      <th>710804</th>\n",
       "      <td>10.0</td>\n",
       "      <td>ancipe</td>\n",
       "      <td>Samsung I9082 Galaxy Grand Smartphone, 8 GB, D...</td>\n",
       "      <td>1</td>\n",
       "    </tr>\n",
       "    <tr>\n",
       "      <th>968359</th>\n",
       "      <td>10.0</td>\n",
       "      <td>Lynne Mckeag</td>\n",
       "      <td>Nokia C3-00 Sim Free Mobile Phone - Dark Grey</td>\n",
       "      <td>1</td>\n",
       "    </tr>\n",
       "    <tr>\n",
       "      <th>292813</th>\n",
       "      <td>10.0</td>\n",
       "      <td>Cliente Amazon</td>\n",
       "      <td>Alcatel Onetouch 2004G - MÃ³vil libre (pantall...</td>\n",
       "      <td>1</td>\n",
       "    </tr>\n",
       "    <tr>\n",
       "      <th>618541</th>\n",
       "      <td>8.0</td>\n",
       "      <td>camouflagemoney</td>\n",
       "      <td>HTC One S - gradient blue (T-Mobile)</td>\n",
       "      <td>1</td>\n",
       "    </tr>\n",
       "  </tbody>\n",
       "</table>\n",
       "</div>"
      ],
      "text/plain": [
       "         score           author  \\\n",
       "1194682   10.0       Konstantin   \n",
       "710804    10.0           ancipe   \n",
       "968359    10.0     Lynne Mckeag   \n",
       "292813    10.0   Cliente Amazon   \n",
       "618541     8.0  camouflagemoney   \n",
       "\n",
       "                                                   product  is_user_rated  \n",
       "1194682  Motorola MOTOROKER E8 Unlocked Phone with 2 GB...              1  \n",
       "710804   Samsung I9082 Galaxy Grand Smartphone, 8 GB, D...              1  \n",
       "968359       Nokia C3-00 Sim Free Mobile Phone - Dark Grey              1  \n",
       "292813   Alcatel Onetouch 2004G - MÃ³vil libre (pantall...              1  \n",
       "618541                HTC One S - gradient blue (T-Mobile)              1  "
      ]
     },
     "execution_count": 656,
     "metadata": {},
     "output_type": "execute_result"
    }
   ],
   "source": [
    "df_u_i.head()"
   ]
  },
  {
   "cell_type": "code",
   "execution_count": 657,
   "metadata": {},
   "outputs": [
    {
     "data": {
      "text/html": [
       "<div>\n",
       "<style scoped>\n",
       "    .dataframe tbody tr th:only-of-type {\n",
       "        vertical-align: middle;\n",
       "    }\n",
       "\n",
       "    .dataframe tbody tr th {\n",
       "        vertical-align: top;\n",
       "    }\n",
       "\n",
       "    .dataframe thead th {\n",
       "        text-align: right;\n",
       "    }\n",
       "</style>\n",
       "<table border=\"1\" class=\"dataframe\">\n",
       "  <thead>\n",
       "    <tr style=\"text-align: right;\">\n",
       "      <th></th>\n",
       "      <th>score</th>\n",
       "      <th>author</th>\n",
       "      <th>product</th>\n",
       "      <th>is_user_rated</th>\n",
       "    </tr>\n",
       "  </thead>\n",
       "  <tbody>\n",
       "    <tr>\n",
       "      <th>1194682</th>\n",
       "      <td>10.0</td>\n",
       "      <td>Konstantin</td>\n",
       "      <td>Motorola MOTOROKER E8 Unlocked Phone with 2 GB...</td>\n",
       "      <td>1</td>\n",
       "    </tr>\n",
       "    <tr>\n",
       "      <th>710804</th>\n",
       "      <td>10.0</td>\n",
       "      <td>ancipe</td>\n",
       "      <td>Samsung I9082 Galaxy Grand Smartphone, 8 GB, D...</td>\n",
       "      <td>1</td>\n",
       "    </tr>\n",
       "    <tr>\n",
       "      <th>968359</th>\n",
       "      <td>10.0</td>\n",
       "      <td>Lynne Mckeag</td>\n",
       "      <td>Nokia C3-00 Sim Free Mobile Phone - Dark Grey</td>\n",
       "      <td>1</td>\n",
       "    </tr>\n",
       "    <tr>\n",
       "      <th>292813</th>\n",
       "      <td>10.0</td>\n",
       "      <td>Cliente Amazon</td>\n",
       "      <td>Alcatel Onetouch 2004G - MÃ³vil libre (pantall...</td>\n",
       "      <td>1</td>\n",
       "    </tr>\n",
       "    <tr>\n",
       "      <th>618541</th>\n",
       "      <td>8.0</td>\n",
       "      <td>camouflagemoney</td>\n",
       "      <td>HTC One S - gradient blue (T-Mobile)</td>\n",
       "      <td>1</td>\n",
       "    </tr>\n",
       "  </tbody>\n",
       "</table>\n",
       "</div>"
      ],
      "text/plain": [
       "         score           author  \\\n",
       "1194682   10.0       Konstantin   \n",
       "710804    10.0           ancipe   \n",
       "968359    10.0     Lynne Mckeag   \n",
       "292813    10.0   Cliente Amazon   \n",
       "618541     8.0  camouflagemoney   \n",
       "\n",
       "                                                   product  is_user_rated  \n",
       "1194682  Motorola MOTOROKER E8 Unlocked Phone with 2 GB...              1  \n",
       "710804   Samsung I9082 Galaxy Grand Smartphone, 8 GB, D...              1  \n",
       "968359       Nokia C3-00 Sim Free Mobile Phone - Dark Grey              1  \n",
       "292813   Alcatel Onetouch 2004G - MÃ³vil libre (pantall...              1  \n",
       "618541                HTC One S - gradient blue (T-Mobile)              1  "
      ]
     },
     "execution_count": 657,
     "metadata": {},
     "output_type": "execute_result"
    }
   ],
   "source": [
    "df_u_i2.head()"
   ]
  },
  {
   "cell_type": "code",
   "execution_count": 658,
   "metadata": {},
   "outputs": [],
   "source": [
    "df_u_i.append(df_u_i2)\n",
    "df_u_i.drop_duplicates(keep='first',inplace=True)"
   ]
  },
  {
   "cell_type": "code",
   "execution_count": 659,
   "metadata": {},
   "outputs": [
    {
     "data": {
      "text/plain": [
       "(909150, 4)"
      ]
     },
     "execution_count": 659,
     "metadata": {},
     "output_type": "execute_result"
    }
   ],
   "source": [
    "df_u_i.shape"
   ]
  },
  {
   "cell_type": "markdown",
   "metadata": {},
   "source": [
    "# Insight:\n",
    "    \n",
    "Grouped by user and produt who has rating count > 50.\n",
    "\n",
    "Extrated the rows of authors from list to data frame and extrated rows from product list to another data frame.\n",
    "\n",
    "Merged the two data frame and removed duplicates to get the data with products having more than 50 ratings and users who have given more than 50 ratings"
   ]
  },
  {
   "cell_type": "code",
   "execution_count": 660,
   "metadata": {},
   "outputs": [],
   "source": [
    "#lu = df_ph.groupby('author')\n",
    "#li = df_ph.groupby('product')\n",
    "\n",
    "#lu.get_group('Amazon Customer')['score'].count()\n",
    "#li.get_group('Nokia 6282')['score'].count()\n",
    "\n",
    "#for i in lu.index:\n",
    "#    print(i,lu[i])\n",
    "\n",
    "#li=df_ph.groupby('product')['score'].count().sort_values(ascending=False).head(10)\n",
    "\n",
    "#x= 'Lenovo Vibe K4 Note (White,16GB)'\n",
    "#for i in li.index:\n",
    "#    print(i,li[i])\n",
    "#if li[x] > 4323:\n",
    "#    print('yes')\n",
    "\n",
    "#df_u_i_50 = df_ph[ lu[x['author']] > 50 or li[x['product']]] > 50,df_ph)\n",
    "\n",
    "#df_u_i_50 = pd.DataFrame(columns=df_ph.columns)\n",
    "#for i,row in df_ph.iterrows():\n",
    "    #print(row)\n",
    "    #print(df_ph.loc[i]['author'])\n",
    "#    if lu.get_group(df_ph.loc[i]['author'])['score'].count() > 50 or li.get_group(df_ph.loc[i]['product'])['score'].count() > 50:\n",
    "#        df_u_i_50.append(row)\n",
    "\n",
    "#df_u_i_50n = df_ph[lu.get_group(df_ph['author'])['score'].count() > 50 or li.get_group(df_ph['product'])['score'].count() > 50]\n",
    "\n",
    "#df_u_i_50.head()\n",
    "\n",
    "#df_u_i = pd.DataFrame(df_ph.groupby('product')['is_user_rated'].sum())\n",
    "\n",
    "#df_u_i.columns.values\n",
    "\n",
    "#prod = df_u_i.sort_values(by='is_user_rated', ascending=False).apply(df_u_i['is_user_rated']>50)"
   ]
  },
  {
   "cell_type": "markdown",
   "metadata": {},
   "source": [
    "# 3. Build a popularity based model and recommend top 5 mobile phones"
   ]
  },
  {
   "cell_type": "code",
   "execution_count": 661,
   "metadata": {},
   "outputs": [],
   "source": [
    "score_mean_count['score_counts'] = pd.DataFrame(df_ph.groupby('product')['is_user_rated'].sum())  "
   ]
  },
  {
   "cell_type": "code",
   "execution_count": 662,
   "metadata": {},
   "outputs": [],
   "source": [
    "score_mean_count['score_counts_multiplied'] = pd.DataFrame(score_mean_count['score']*score_mean_count['score_counts'])"
   ]
  },
  {
   "cell_type": "code",
   "execution_count": 663,
   "metadata": {},
   "outputs": [
    {
     "data": {
      "text/html": [
       "<div>\n",
       "<style scoped>\n",
       "    .dataframe tbody tr th:only-of-type {\n",
       "        vertical-align: middle;\n",
       "    }\n",
       "\n",
       "    .dataframe tbody tr th {\n",
       "        vertical-align: top;\n",
       "    }\n",
       "\n",
       "    .dataframe thead th {\n",
       "        text-align: right;\n",
       "    }\n",
       "</style>\n",
       "<table border=\"1\" class=\"dataframe\">\n",
       "  <thead>\n",
       "    <tr style=\"text-align: right;\">\n",
       "      <th></th>\n",
       "      <th>score</th>\n",
       "      <th>score_counts</th>\n",
       "      <th>score_counts_multiplied</th>\n",
       "    </tr>\n",
       "    <tr>\n",
       "      <th>product</th>\n",
       "      <th></th>\n",
       "      <th></th>\n",
       "      <th></th>\n",
       "    </tr>\n",
       "  </thead>\n",
       "  <tbody>\n",
       "    <tr>\n",
       "      <th>'Smartphone Meizu Pro 5, 5,7 pouces avec Exynos 7420 Octa 8 Core Processeur. mÃ©moire RAM 4 Go et 64 Go mÃ©moire...</th>\n",
       "      <td>8.000000</td>\n",
       "      <td>1</td>\n",
       "      <td>8.0</td>\n",
       "    </tr>\n",
       "    <tr>\n",
       "      <th>'Sony Xperia X (F5122) â White â Dual Sim (Google Android 6.0.1, 5 Display, 2 x CORTEX A72 1.8 GHz + 4 x cortex-a53...</th>\n",
       "      <td>10.000000</td>\n",
       "      <td>1</td>\n",
       "      <td>10.0</td>\n",
       "    </tr>\n",
       "    <tr>\n",
       "      <th>'Sony Xperia X (F5122) â rosa â Dual Sim (Google Android 6.0.1, 5 Display, 2 x CORTEX A72 1.8 GHz + 4 x cortex-a53...</th>\n",
       "      <td>10.000000</td>\n",
       "      <td>1</td>\n",
       "      <td>10.0</td>\n",
       "    </tr>\n",
       "    <tr>\n",
       "      <th>(7.62 cm (3 )Afficheur/Ã©cran, 2 MPixCamÃ©ra;blanc)-Smartphone</th>\n",
       "      <td>6.000000</td>\n",
       "      <td>1</td>\n",
       "      <td>6.0</td>\n",
       "    </tr>\n",
       "    <tr>\n",
       "      <th>(DG300 Versione Aggiornata)5'' DOOGEE VOYAGER2 DG310 Dual Flashlights IPS Screen 3G Smartphone Android 4.4 MTK6582 1.3GHz Quad Core Telefono Cellulare Dual SIM 8G ROM OTG OTA GPS WIFI, BIANCO</th>\n",
       "      <td>7.210526</td>\n",
       "      <td>38</td>\n",
       "      <td>274.0</td>\n",
       "    </tr>\n",
       "  </tbody>\n",
       "</table>\n",
       "</div>"
      ],
      "text/plain": [
       "                                                        score  score_counts  \\\n",
       "product                                                                       \n",
       "'Smartphone Meizu Pro 5, 5,7 pouces avec Exynos...   8.000000             1   \n",
       "'Sony Xperia X (F5122) â White â Dual Sim (...  10.000000             1   \n",
       "'Sony Xperia X (F5122) â rosa â Dual Sim (G...  10.000000             1   \n",
       "(7.62 cm (3 )Afficheur/Ã©cran, 2 MPixCamÃ©ra;bl...   6.000000             1   \n",
       "(DG300 Versione Aggiornata)5'' DOOGEE VOYAGER2 ...   7.210526            38   \n",
       "\n",
       "                                                    score_counts_multiplied  \n",
       "product                                                                      \n",
       "'Smartphone Meizu Pro 5, 5,7 pouces avec Exynos...                      8.0  \n",
       "'Sony Xperia X (F5122) â White â Dual Sim (...                     10.0  \n",
       "'Sony Xperia X (F5122) â rosa â Dual Sim (G...                     10.0  \n",
       "(7.62 cm (3 )Afficheur/Ã©cran, 2 MPixCamÃ©ra;bl...                      6.0  \n",
       "(DG300 Versione Aggiornata)5'' DOOGEE VOYAGER2 ...                    274.0  "
      ]
     },
     "execution_count": 663,
     "metadata": {},
     "output_type": "execute_result"
    }
   ],
   "source": [
    "score_mean_count.head()"
   ]
  },
  {
   "cell_type": "code",
   "execution_count": 664,
   "metadata": {},
   "outputs": [
    {
     "data": {
      "text/html": [
       "<div>\n",
       "<style scoped>\n",
       "    .dataframe tbody tr th:only-of-type {\n",
       "        vertical-align: middle;\n",
       "    }\n",
       "\n",
       "    .dataframe tbody tr th {\n",
       "        vertical-align: top;\n",
       "    }\n",
       "\n",
       "    .dataframe thead th {\n",
       "        text-align: right;\n",
       "    }\n",
       "</style>\n",
       "<table border=\"1\" class=\"dataframe\">\n",
       "  <thead>\n",
       "    <tr style=\"text-align: right;\">\n",
       "      <th></th>\n",
       "      <th>score</th>\n",
       "      <th>score_counts</th>\n",
       "      <th>score_counts_multiplied</th>\n",
       "    </tr>\n",
       "    <tr>\n",
       "      <th>product</th>\n",
       "      <th></th>\n",
       "      <th></th>\n",
       "      <th></th>\n",
       "    </tr>\n",
       "  </thead>\n",
       "  <tbody>\n",
       "    <tr>\n",
       "      <th>Lenovo Vibe K4 Note (White,16GB)</th>\n",
       "      <td>7.199134</td>\n",
       "      <td>4158</td>\n",
       "      <td>29934.0</td>\n",
       "    </tr>\n",
       "    <tr>\n",
       "      <th>OnePlus 3 (Graphite, 64 GB)</th>\n",
       "      <td>8.753686</td>\n",
       "      <td>3256</td>\n",
       "      <td>28502.0</td>\n",
       "    </tr>\n",
       "    <tr>\n",
       "      <th>Lenovo Vibe K4 Note (Black, 16GB)</th>\n",
       "      <td>7.210162</td>\n",
       "      <td>3464</td>\n",
       "      <td>24976.0</td>\n",
       "    </tr>\n",
       "    <tr>\n",
       "      <th>OnePlus 3 (Soft Gold, 64 GB)</th>\n",
       "      <td>8.526020</td>\n",
       "      <td>2844</td>\n",
       "      <td>24248.0</td>\n",
       "    </tr>\n",
       "    <tr>\n",
       "      <th>Huawei P8lite zwart / 16 GB</th>\n",
       "      <td>8.456819</td>\n",
       "      <td>2119</td>\n",
       "      <td>17920.0</td>\n",
       "    </tr>\n",
       "  </tbody>\n",
       "</table>\n",
       "</div>"
      ],
      "text/plain": [
       "                                      score  score_counts  \\\n",
       "product                                                     \n",
       "Lenovo Vibe K4 Note (White,16GB)   7.199134          4158   \n",
       "OnePlus 3 (Graphite, 64 GB)        8.753686          3256   \n",
       "Lenovo Vibe K4 Note (Black, 16GB)  7.210162          3464   \n",
       "OnePlus 3 (Soft Gold, 64 GB)       8.526020          2844   \n",
       "Huawei P8lite zwart / 16 GB        8.456819          2119   \n",
       "\n",
       "                                   score_counts_multiplied  \n",
       "product                                                     \n",
       "Lenovo Vibe K4 Note (White,16GB)                   29934.0  \n",
       "OnePlus 3 (Graphite, 64 GB)                        28502.0  \n",
       "Lenovo Vibe K4 Note (Black, 16GB)                  24976.0  \n",
       "OnePlus 3 (Soft Gold, 64 GB)                       24248.0  \n",
       "Huawei P8lite zwart / 16 GB                        17920.0  "
      ]
     },
     "execution_count": 664,
     "metadata": {},
     "output_type": "execute_result"
    }
   ],
   "source": [
    "score_mean_count.sort_values(by='score_counts_multiplied', ascending=False).head(5)"
   ]
  },
  {
   "cell_type": "markdown",
   "metadata": {},
   "source": [
    "# Insight:\n",
    "\n",
    "Counted the ratings for each user and multiplied with score. \n",
    "\n",
    "Now sorted the records based on the multiplied value to get the most popular product "
   ]
  },
  {
   "cell_type": "markdown",
   "metadata": {},
   "source": [
    "# 4. Build a collaborative filtering model using SVD. You can use SVD from surprise or build it from scratch(Note: Incase you’re building it from scratch you can limit your data points to 10000 samples if you face memory issues). ( 5 points)"
   ]
  },
  {
   "cell_type": "code",
   "execution_count": 665,
   "metadata": {},
   "outputs": [],
   "source": [
    "reader = Reader(rating_scale=(1, 10))"
   ]
  },
  {
   "cell_type": "code",
   "execution_count": 666,
   "metadata": {},
   "outputs": [],
   "source": [
    "data = Dataset.load_from_df(df_ph[['author', 'product', 'score']], reader)"
   ]
  },
  {
   "cell_type": "code",
   "execution_count": 667,
   "metadata": {},
   "outputs": [
    {
     "data": {
      "text/plain": [
       "<surprise.dataset.DatasetAutoFolds at 0x3f9981bae80>"
      ]
     },
     "execution_count": 667,
     "metadata": {},
     "output_type": "execute_result"
    }
   ],
   "source": [
    "data"
   ]
  },
  {
   "cell_type": "code",
   "execution_count": 668,
   "metadata": {},
   "outputs": [
    {
     "data": {
      "text/plain": [
       "<surprise.trainset.Trainset at 0x2488d93d0a0>"
      ]
     },
     "execution_count": 668,
     "metadata": {},
     "output_type": "execute_result"
    }
   ],
   "source": [
    "trainset, testset = train_test_split(data, test_size=.25,random_state=100)\n",
    "trainset"
   ]
  },
  {
   "cell_type": "code",
   "execution_count": 669,
   "metadata": {},
   "outputs": [
    {
     "data": {
      "text/html": [
       "<div>\n",
       "<style scoped>\n",
       "    .dataframe tbody tr th:only-of-type {\n",
       "        vertical-align: middle;\n",
       "    }\n",
       "\n",
       "    .dataframe tbody tr th {\n",
       "        vertical-align: top;\n",
       "    }\n",
       "\n",
       "    .dataframe thead th {\n",
       "        text-align: right;\n",
       "    }\n",
       "</style>\n",
       "<table border=\"1\" class=\"dataframe\">\n",
       "  <thead>\n",
       "    <tr style=\"text-align: right;\">\n",
       "      <th></th>\n",
       "      <th>author</th>\n",
       "      <th>product</th>\n",
       "      <th>score</th>\n",
       "    </tr>\n",
       "  </thead>\n",
       "  <tbody>\n",
       "    <tr>\n",
       "      <th>1194682</th>\n",
       "      <td>Konstantin</td>\n",
       "      <td>Motorola MOTOROKER E8 Unlocked Phone with 2 GB...</td>\n",
       "      <td>10.0</td>\n",
       "    </tr>\n",
       "    <tr>\n",
       "      <th>710804</th>\n",
       "      <td>ancipe</td>\n",
       "      <td>Samsung I9082 Galaxy Grand Smartphone, 8 GB, D...</td>\n",
       "      <td>10.0</td>\n",
       "    </tr>\n",
       "    <tr>\n",
       "      <th>968359</th>\n",
       "      <td>Lynne Mckeag</td>\n",
       "      <td>Nokia C3-00 Sim Free Mobile Phone - Dark Grey</td>\n",
       "      <td>10.0</td>\n",
       "    </tr>\n",
       "    <tr>\n",
       "      <th>292813</th>\n",
       "      <td>Cliente Amazon</td>\n",
       "      <td>Alcatel Onetouch 2004G - MÃ³vil libre (pantall...</td>\n",
       "      <td>10.0</td>\n",
       "    </tr>\n",
       "    <tr>\n",
       "      <th>618541</th>\n",
       "      <td>camouflagemoney</td>\n",
       "      <td>HTC One S - gradient blue (T-Mobile)</td>\n",
       "      <td>8.0</td>\n",
       "    </tr>\n",
       "    <tr>\n",
       "      <th>...</th>\n",
       "      <td>...</td>\n",
       "      <td>...</td>\n",
       "      <td>...</td>\n",
       "    </tr>\n",
       "    <tr>\n",
       "      <th>593019</th>\n",
       "      <td>UK Berlin</td>\n",
       "      <td>SONY Xperia M4 Aqua Dual - 16 GB - 4G - Korall...</td>\n",
       "      <td>10.0</td>\n",
       "    </tr>\n",
       "    <tr>\n",
       "      <th>647379</th>\n",
       "      <td>antonpavlov1984</td>\n",
       "      <td>LG Nexus 4 16Gb</td>\n",
       "      <td>10.0</td>\n",
       "    </tr>\n",
       "    <tr>\n",
       "      <th>768600</th>\n",
       "      <td>Christopher Taylor</td>\n",
       "      <td>Sony Phones Xperia T James Bond UK Sim Free Sm...</td>\n",
       "      <td>4.0</td>\n",
       "    </tr>\n",
       "    <tr>\n",
       "      <th>459819</th>\n",
       "      <td>Sally</td>\n",
       "      <td>MICROSOFT Lumia 650 - 16 GB, Black</td>\n",
       "      <td>9.0</td>\n",
       "    </tr>\n",
       "    <tr>\n",
       "      <th>686773</th>\n",
       "      <td>Koorikoo</td>\n",
       "      <td>Samsung Galaxy S4 (Metro PCS)</td>\n",
       "      <td>10.0</td>\n",
       "    </tr>\n",
       "  </tbody>\n",
       "</table>\n",
       "<p>1000000 rows × 3 columns</p>\n",
       "</div>"
      ],
      "text/plain": [
       "                     author  \\\n",
       "1194682          Konstantin   \n",
       "710804               ancipe   \n",
       "968359         Lynne Mckeag   \n",
       "292813       Cliente Amazon   \n",
       "618541      camouflagemoney   \n",
       "...                     ...   \n",
       "593019            UK Berlin   \n",
       "647379      antonpavlov1984   \n",
       "768600   Christopher Taylor   \n",
       "459819                Sally   \n",
       "686773            Koorikoo    \n",
       "\n",
       "                                                   product  score  \n",
       "1194682  Motorola MOTOROKER E8 Unlocked Phone with 2 GB...   10.0  \n",
       "710804   Samsung I9082 Galaxy Grand Smartphone, 8 GB, D...   10.0  \n",
       "968359       Nokia C3-00 Sim Free Mobile Phone - Dark Grey   10.0  \n",
       "292813   Alcatel Onetouch 2004G - MÃ³vil libre (pantall...   10.0  \n",
       "618541                HTC One S - gradient blue (T-Mobile)    8.0  \n",
       "...                                                    ...    ...  \n",
       "593019   SONY Xperia M4 Aqua Dual - 16 GB - 4G - Korall...   10.0  \n",
       "647379                                     LG Nexus 4 16Gb   10.0  \n",
       "768600   Sony Phones Xperia T James Bond UK Sim Free Sm...    4.0  \n",
       "459819                  MICROSOFT Lumia 650 - 16 GB, Black    9.0  \n",
       "686773                       Samsung Galaxy S4 (Metro PCS)   10.0  \n",
       "\n",
       "[1000000 rows x 3 columns]"
      ]
     },
     "execution_count": 669,
     "metadata": {},
     "output_type": "execute_result"
    }
   ],
   "source": [
    "data.df"
   ]
  },
  {
   "cell_type": "code",
   "execution_count": 670,
   "metadata": {},
   "outputs": [
    {
     "data": {
      "text/plain": [
       "<surprise.prediction_algorithms.matrix_factorization.SVD at 0x248e72ac280>"
      ]
     },
     "execution_count": 670,
     "metadata": {},
     "output_type": "execute_result"
    }
   ],
   "source": [
    "svd_model = SVD(n_factors=50, random_state=10)\n",
    "svd_model.fit(trainset)"
   ]
  },
  {
   "cell_type": "markdown",
   "metadata": {},
   "source": [
    "# 5. Build a collaborative filtering model using kNNWithMeans from surprise. You can try both user-based and item-based model ( 5 points)"
   ]
  },
  {
   "cell_type": "code",
   "execution_count": 671,
   "metadata": {},
   "outputs": [],
   "source": [
    "df_ph2 = df_ph.sample(n=10000,random_state=612)\n",
    "data2 = Dataset.load_from_df(df_ph2[['author', 'product', 'score']], reader)"
   ]
  },
  {
   "cell_type": "code",
   "execution_count": 672,
   "metadata": {},
   "outputs": [
    {
     "name": "stdout",
     "output_type": "stream",
     "text": [
      "Computing the cosine similarity matrix...\n",
      "Done computing similarity matrix.\n"
     ]
    },
    {
     "name": "stderr",
     "output_type": "stream",
     "text": [
      "C:\\Users\\srivi\\anaconda3\\lib\\site-packages\\surprise\\prediction_algorithms\\algo_base.py:249: RuntimeWarning: invalid value encountered in double_scalars\n",
      "  sim = construction_func[name](*args)\n"
     ]
    },
    {
     "data": {
      "text/plain": [
       "<surprise.prediction_algorithms.knns.KNNWithMeans at 0x2492467ec10>"
      ]
     },
     "execution_count": 672,
     "metadata": {},
     "output_type": "execute_result"
    }
   ],
   "source": [
    "trainsetu, testsetu = train_test_split(data2, test_size=.25,random_state=100)\n",
    "algou = KNNWithMeans(k=50, sim_options={'name': 'cosine', 'user_based': True})\n",
    "algou.fit(trainsetu)\n"
   ]
  },
  {
   "cell_type": "code",
   "execution_count": 673,
   "metadata": {},
   "outputs": [],
   "source": [
    "# get a prediction for specific users and items.\n",
    "#pred = algo.predict(uid, iid, verbose=True)"
   ]
  },
  {
   "cell_type": "code",
   "execution_count": 674,
   "metadata": {},
   "outputs": [
    {
     "name": "stdout",
     "output_type": "stream",
     "text": [
      "Computing the cosine similarity matrix...\n",
      "Done computing similarity matrix.\n"
     ]
    },
    {
     "data": {
      "text/plain": [
       "<surprise.prediction_algorithms.knns.KNNWithMeans at 0x24882798250>"
      ]
     },
     "execution_count": 674,
     "metadata": {},
     "output_type": "execute_result"
    }
   ],
   "source": [
    "trainseti, testseti = train_test_split(data2, test_size=.25,random_state=100)\n",
    "algoi = KNNWithMeans(k=50, sim_options={'name': 'cosine', 'user_based': False})\n",
    "algoi.fit(trainseti)\n"
   ]
  },
  {
   "cell_type": "markdown",
   "metadata": {},
   "source": [
    "# 6. Evaluate the collaborative model. Print RMSE value. ( 2.5 points)"
   ]
  },
  {
   "cell_type": "code",
   "execution_count": 675,
   "metadata": {},
   "outputs": [
    {
     "name": "stdout",
     "output_type": "stream",
     "text": [
      "RMSE: 2.6157\n"
     ]
    },
    {
     "data": {
      "text/plain": [
       "2.615685019044431"
      ]
     },
     "execution_count": 675,
     "metadata": {},
     "output_type": "execute_result"
    }
   ],
   "source": [
    "accuracy.rmse(test_pred)"
   ]
  },
  {
   "cell_type": "code",
   "execution_count": 676,
   "metadata": {},
   "outputs": [
    {
     "name": "stdout",
     "output_type": "stream",
     "text": [
      "RMSE: 3.0477\n"
     ]
    },
    {
     "data": {
      "text/plain": [
       "3.0477228826210436"
      ]
     },
     "execution_count": 676,
     "metadata": {},
     "output_type": "execute_result"
    }
   ],
   "source": [
    "accuracy.rmse(test_predu, verbose=True)"
   ]
  },
  {
   "cell_type": "code",
   "execution_count": 677,
   "metadata": {},
   "outputs": [
    {
     "name": "stdout",
     "output_type": "stream",
     "text": [
      "RMSE: 3.0685\n"
     ]
    },
    {
     "data": {
      "text/plain": [
       "3.068488370421595"
      ]
     },
     "execution_count": 677,
     "metadata": {},
     "output_type": "execute_result"
    }
   ],
   "source": [
    "accuracy.rmse(test_predi, verbose=True)"
   ]
  },
  {
   "cell_type": "markdown",
   "metadata": {},
   "source": [
    "# 7. Predict score (average rating) for test users. ( 2.5 points)"
   ]
  },
  {
   "cell_type": "code",
   "execution_count": 678,
   "metadata": {},
   "outputs": [],
   "source": [
    "test_pred = svd_model.test(testset)\n",
    "test_predu = algou.test(testsetu)\n",
    "test_predi = algoi.test(testseti)"
   ]
  },
  {
   "cell_type": "markdown",
   "metadata": {},
   "source": [
    "# 8. Report your findings and inferences ( 5 points)"
   ]
  },
  {
   "cell_type": "markdown",
   "metadata": {},
   "source": [
    "# Insight:\n",
    "\n",
    "The dataset has more general users. It can be more specific than amazon users or anonymous or unknown users.\n",
    "\n",
    "Here we can do very much personalized recommendation. we need to request and get even more better data for the algorithm to do correct custom recomendation.\n",
    "\n",
    "The algorithm also gave poor performance. The RMSE value is high for model based , user-user and item-tem collaborative filtering models."
   ]
  },
  {
   "cell_type": "markdown",
   "metadata": {},
   "source": [
    "# 9. Try and recommend top 5 products for test users. ( 5 points)"
   ]
  },
  {
   "cell_type": "code",
   "execution_count": 680,
   "metadata": {},
   "outputs": [
    {
     "data": {
      "text/html": [
       "<div>\n",
       "<style scoped>\n",
       "    .dataframe tbody tr th:only-of-type {\n",
       "        vertical-align: middle;\n",
       "    }\n",
       "\n",
       "    .dataframe tbody tr th {\n",
       "        vertical-align: top;\n",
       "    }\n",
       "\n",
       "    .dataframe thead th {\n",
       "        text-align: right;\n",
       "    }\n",
       "</style>\n",
       "<table border=\"1\" class=\"dataframe\">\n",
       "  <thead>\n",
       "    <tr style=\"text-align: right;\">\n",
       "      <th></th>\n",
       "      <th>uid</th>\n",
       "      <th>iid</th>\n",
       "      <th>r_ui</th>\n",
       "      <th>est</th>\n",
       "      <th>details</th>\n",
       "    </tr>\n",
       "  </thead>\n",
       "  <tbody>\n",
       "    <tr>\n",
       "      <th>0</th>\n",
       "      <td>ÐÐ¾Ð±Ð°Ð½Ð¾Ð²Ð° ÐÐ°ÑÑÐµÐ½ÐºÐ°</td>\n",
       "      <td>Alcatel OneTouch IDOL X 6040</td>\n",
       "      <td>10.0</td>\n",
       "      <td>8.198868</td>\n",
       "      <td>{'was_impossible': False}</td>\n",
       "    </tr>\n",
       "    <tr>\n",
       "      <th>1</th>\n",
       "      <td>JasonThomas</td>\n",
       "      <td>HTC One</td>\n",
       "      <td>8.0</td>\n",
       "      <td>7.846409</td>\n",
       "      <td>{'was_impossible': False}</td>\n",
       "    </tr>\n",
       "    <tr>\n",
       "      <th>2</th>\n",
       "      <td>Sebas23</td>\n",
       "      <td>Samsung Galaxy S7 edge 32GB (Verizon)</td>\n",
       "      <td>10.0</td>\n",
       "      <td>9.315394</td>\n",
       "      <td>{'was_impossible': False}</td>\n",
       "    </tr>\n",
       "    <tr>\n",
       "      <th>3</th>\n",
       "      <td>stefna</td>\n",
       "      <td>DOOGEE VALENCIA2 Y100 Pro 5.0 Pollici HD Dello...</td>\n",
       "      <td>8.0</td>\n",
       "      <td>8.542727</td>\n",
       "      <td>{'was_impossible': False}</td>\n",
       "    </tr>\n",
       "    <tr>\n",
       "      <th>4</th>\n",
       "      <td>brannume</td>\n",
       "      <td>LG Chocolate</td>\n",
       "      <td>2.0</td>\n",
       "      <td>5.490190</td>\n",
       "      <td>{'was_impossible': False}</td>\n",
       "    </tr>\n",
       "  </tbody>\n",
       "</table>\n",
       "</div>"
      ],
      "text/plain": [
       "                                 uid  \\\n",
       "0  ÐÐ¾Ð±Ð°Ð½Ð¾Ð²Ð° ÐÐ°ÑÑÐµÐ½ÐºÐ°   \n",
       "1                        JasonThomas   \n",
       "2                           Sebas23    \n",
       "3                             stefna   \n",
       "4                           brannume   \n",
       "\n",
       "                                                 iid  r_ui       est  \\\n",
       "0                       Alcatel OneTouch IDOL X 6040  10.0  8.198868   \n",
       "1                                            HTC One   8.0  7.846409   \n",
       "2              Samsung Galaxy S7 edge 32GB (Verizon)  10.0  9.315394   \n",
       "3  DOOGEE VALENCIA2 Y100 Pro 5.0 Pollici HD Dello...   8.0  8.542727   \n",
       "4                                       LG Chocolate   2.0  5.490190   \n",
       "\n",
       "                     details  \n",
       "0  {'was_impossible': False}  \n",
       "1  {'was_impossible': False}  \n",
       "2  {'was_impossible': False}  \n",
       "3  {'was_impossible': False}  \n",
       "4  {'was_impossible': False}  "
      ]
     },
     "execution_count": 680,
     "metadata": {},
     "output_type": "execute_result"
    }
   ],
   "source": [
    "#testset_new = trainset.build_anti_testset()\n",
    "predictions = svd_model.test(testset)\n",
    "predictions_df = pd.DataFrame(predictions)\n",
    "predictions_df.head()"
   ]
  },
  {
   "cell_type": "code",
   "execution_count": 681,
   "metadata": {},
   "outputs": [],
   "source": [
    "def get_recomm(userID,n):\n",
    "    recomm = predictions_df[predictions_df['uid']==userID][['uid','iid','est']].sort_values(by='est',ascending=False).head(n)  \n",
    "    return recomm\n"
   ]
  },
  {
   "cell_type": "code",
   "execution_count": 682,
   "metadata": {},
   "outputs": [
    {
     "data": {
      "text/html": [
       "<div>\n",
       "<style scoped>\n",
       "    .dataframe tbody tr th:only-of-type {\n",
       "        vertical-align: middle;\n",
       "    }\n",
       "\n",
       "    .dataframe tbody tr th {\n",
       "        vertical-align: top;\n",
       "    }\n",
       "\n",
       "    .dataframe thead th {\n",
       "        text-align: right;\n",
       "    }\n",
       "</style>\n",
       "<table border=\"1\" class=\"dataframe\">\n",
       "  <thead>\n",
       "    <tr style=\"text-align: right;\">\n",
       "      <th></th>\n",
       "      <th>uid</th>\n",
       "      <th>iid</th>\n",
       "      <th>est</th>\n",
       "    </tr>\n",
       "  </thead>\n",
       "  <tbody>\n",
       "    <tr>\n",
       "      <th>94717</th>\n",
       "      <td>Konstantin</td>\n",
       "      <td>HTC Desire S</td>\n",
       "      <td>8.530234</td>\n",
       "    </tr>\n",
       "    <tr>\n",
       "      <th>52347</th>\n",
       "      <td>Konstantin</td>\n",
       "      <td>ASUS Computer ZenFone5 A501CG-1G358GER Smartph...</td>\n",
       "      <td>8.457191</td>\n",
       "    </tr>\n",
       "    <tr>\n",
       "      <th>104498</th>\n",
       "      <td>Konstantin</td>\n",
       "      <td>LG G4 US991 32GB Smartphone (Unlocked, Black L...</td>\n",
       "      <td>8.449357</td>\n",
       "    </tr>\n",
       "  </tbody>\n",
       "</table>\n",
       "</div>"
      ],
      "text/plain": [
       "               uid                                                iid  \\\n",
       "94717   Konstantin                                       HTC Desire S   \n",
       "52347   Konstantin  ASUS Computer ZenFone5 A501CG-1G358GER Smartph...   \n",
       "104498  Konstantin  LG G4 US991 32GB Smartphone (Unlocked, Black L...   \n",
       "\n",
       "             est  \n",
       "94717   8.530234  \n",
       "52347   8.457191  \n",
       "104498  8.449357  "
      ]
     },
     "execution_count": 682,
     "metadata": {},
     "output_type": "execute_result"
    }
   ],
   "source": [
    "get_recomm('Konstantin',4)"
   ]
  },
  {
   "cell_type": "markdown",
   "metadata": {},
   "source": [
    "# 10. Check for outliers and impute them as required."
   ]
  },
  {
   "cell_type": "markdown",
   "metadata": {},
   "source": [
    "# 11. Try cross validation techniques to get better results."
   ]
  },
  {
   "cell_type": "code",
   "execution_count": 589,
   "metadata": {},
   "outputs": [],
   "source": [
    "param_grid = {'n_factors': [10, 25, 50, 75, 100, 150, 200],\n",
    "'lr_all': [0.1, 0.01 ,0.5, 0.05, 1.0, 0.001, 0.005]}\n",
    "svd = SVD()\n",
    "#mse = make_scorer('mean_squared_error',greater_is_better=False)\n",
    "gs = GridSearchCV(SVD, param_grid, measures = ['rmse'], cv=5)\n",
    "\n",
    "gs.fit(data)"
   ]
  },
  {
   "cell_type": "code",
   "execution_count": 590,
   "metadata": {},
   "outputs": [
    {
     "name": "stdout",
     "output_type": "stream",
     "text": [
      "2.608219736795645\n",
      "{'n_factors': 10, 'lr_all': 0.005}\n"
     ]
    }
   ],
   "source": [
    "# best RMSE score\n",
    "print(gs.best_score['rmse'])\n",
    "\n",
    "# combination of parameters that gave the best RMSE score\n",
    "print(gs.best_params['rmse'])"
   ]
  },
  {
   "cell_type": "code",
   "execution_count": 613,
   "metadata": {},
   "outputs": [
    {
     "name": "stdout",
     "output_type": "stream",
     "text": [
      "Computing the cosine similarity matrix...\n",
      "Done computing similarity matrix.\n",
      "Computing the cosine similarity matrix...\n",
      "Done computing similarity matrix.\n",
      "Computing the cosine similarity matrix...\n",
      "Done computing similarity matrix.\n",
      "Computing the cosine similarity matrix...\n",
      "Done computing similarity matrix.\n",
      "Computing the cosine similarity matrix...\n",
      "Done computing similarity matrix.\n",
      "Evaluating RMSE, MAE of algorithm KNNWithMeans on 5 split(s).\n",
      "\n",
      "                  Fold 1  Fold 2  Fold 3  Fold 4  Fold 5  Mean    Std     \n",
      "RMSE (testset)    3.1209  2.9766  3.0402  2.9802  3.0463  3.0329  0.0528  \n",
      "MAE (testset)     2.4668  2.3716  2.4162  2.3854  2.4153  2.4110  0.0328  \n",
      "Fit time          1.19    1.21    1.22    1.23    1.24    1.22    0.02    \n",
      "Test time         0.02    0.02    0.02    0.02    0.02    0.02    0.00    \n"
     ]
    },
    {
     "data": {
      "text/plain": [
       "{'test_rmse': array([3.12091616, 2.976602  , 3.0401732 , 2.98024669, 3.04632965]),\n",
       " 'test_mae': array([2.46678948, 2.37155665, 2.41616427, 2.38544342, 2.41526649]),\n",
       " 'fit_time': (1.1888201236724854,\n",
       "  1.213041067123413,\n",
       "  1.216799259185791,\n",
       "  1.2266931533813477,\n",
       "  1.2371690273284912),\n",
       " 'test_time': (0.02393651008605957,\n",
       "  0.020939350128173828,\n",
       "  0.022938966751098633,\n",
       "  0.02097153663635254,\n",
       "  0.022938966751098633)}"
      ]
     },
     "execution_count": 613,
     "metadata": {},
     "output_type": "execute_result"
    }
   ],
   "source": [
    "#svd = SVD(n_factors=40)\n",
    "algoi1 = KNNWithMeans(k=100, sim_options={'name': 'cosine', 'user_based': True})\n",
    "cross_validate(algoi1, data2, measures=['RMSE', 'MAE'], cv=5, verbose=True)\n"
   ]
  },
  {
   "cell_type": "code",
   "execution_count": 614,
   "metadata": {},
   "outputs": [
    {
     "name": "stdout",
     "output_type": "stream",
     "text": [
      "Computing the cosine similarity matrix...\n",
      "Done computing similarity matrix.\n",
      "Computing the cosine similarity matrix...\n",
      "Done computing similarity matrix.\n",
      "Computing the cosine similarity matrix...\n",
      "Done computing similarity matrix.\n",
      "Computing the cosine similarity matrix...\n",
      "Done computing similarity matrix.\n",
      "Computing the cosine similarity matrix...\n",
      "Done computing similarity matrix.\n",
      "Evaluating RMSE, MAE of algorithm KNNWithMeans on 5 split(s).\n",
      "\n",
      "                  Fold 1  Fold 2  Fold 3  Fold 4  Fold 5  Mean    Std     \n",
      "RMSE (testset)    3.0376  2.9815  3.0483  3.0418  3.0705  3.0359  0.0295  \n",
      "MAE (testset)     2.4141  2.4126  2.4028  2.4234  2.4202  2.4146  0.0071  \n",
      "Fit time          1.22    1.23    1.23    1.23    1.21    1.22    0.01    \n",
      "Test time         0.02    0.02    0.02    0.02    0.02    0.02    0.00    \n"
     ]
    },
    {
     "data": {
      "text/plain": [
       "{'test_rmse': array([3.03755202, 2.98153124, 3.04833604, 3.04175364, 3.07054269]),\n",
       " 'test_mae': array([2.41414969, 2.41262494, 2.40280456, 2.42337278, 2.42017862]),\n",
       " 'fit_time': (1.2242650985717773,\n",
       "  1.2279300689697266,\n",
       "  1.2302148342132568,\n",
       "  1.228193998336792,\n",
       "  1.2126314640045166),\n",
       " 'test_time': (0.022938251495361328,\n",
       "  0.022939443588256836,\n",
       "  0.02289605140686035,\n",
       "  0.021941661834716797,\n",
       "  0.023966312408447266)}"
      ]
     },
     "execution_count": 614,
     "metadata": {},
     "output_type": "execute_result"
    }
   ],
   "source": [
    "algoi2 = KNNWithMeans(k=100, sim_options={'name': 'cosine', 'user_based': False})\n",
    "cross_validate(algoi1, data2, measures=['RMSE', 'MAE'], cv=5, verbose=True)\n"
   ]
  },
  {
   "cell_type": "markdown",
   "metadata": {},
   "source": [
    "# Insight:\n",
    "\n",
    "Cross validation and gridsearchCV didnt give any better results than basic models as the data itself is not good as mentioned before.\n",
    "\n",
    "The same result was obtained or mayb be a very little improvement ie RMSE was little bit low than raw models."
   ]
  },
  {
   "cell_type": "markdown",
   "metadata": {},
   "source": [
    "# 12. In what business scenario you should use popularity based Recommendation Systems?"
   ]
  },
  {
   "cell_type": "markdown",
   "metadata": {},
   "source": [
    "# Insight:\n",
    "\n",
    "Popularity based model can be used when user visit a ecommerce websites like amazon, ebay or online streaming websites like netflix, amazon prime etc for the first time, then we can recommennd some popularity products to the users.\n",
    "\n",
    "Or if the user just visits the websites without loggin in, we can recomments popularity items to the users.\n",
    "\n",
    "Popularity based model works with current trend. Trend setting or choosing features are upto the developers choice."
   ]
  },
  {
   "cell_type": "markdown",
   "metadata": {},
   "source": [
    "# 13. In what business scenario you should use CF based Recommendation Systems?"
   ]
  },
  {
   "cell_type": "markdown",
   "metadata": {},
   "source": [
    "# Insight:\n",
    "\n",
    "Collaborative filtering can be used when we want to do customised recommendations to users based on users personal interest.\n",
    "\n",
    "Finding the nearest similar users and recommending products based on those users."
   ]
  },
  {
   "cell_type": "markdown",
   "metadata": {},
   "source": [
    "# 14. What other possible methods can you think of which can further improve the recommendation for different users?"
   ]
  },
  {
   "cell_type": "markdown",
   "metadata": {},
   "source": [
    "# Insight:\n",
    "\n",
    "Classification model based - uses features of both products as well as users in order to predict whether user will like a product or not.\n",
    "\n",
    "naive based recommendation - conditional probability. eq frequently bought together in amazon \n",
    "\n",
    "content based recomendation - recomending items based on users past history of likes\n",
    "\n",
    "hybrid based approach - combination of two or more recomendation strategies\n",
    "\n",
    "association rule mining - finding rules how the products are bought together \n",
    "\n",
    "Here we can use hybrid approach of combining two or more recomendation system to recommend product to users as it make give users with more choice of recomended selection"
   ]
  },
  {
   "cell_type": "code",
   "execution_count": null,
   "metadata": {},
   "outputs": [],
   "source": []
  }
 ],
 "metadata": {
  "kernelspec": {
   "display_name": "Python 3",
   "language": "python",
   "name": "python3"
  },
  "language_info": {
   "codemirror_mode": {
    "name": "ipython",
    "version": 3
   },
   "file_extension": ".py",
   "mimetype": "text/x-python",
   "name": "python",
   "nbconvert_exporter": "python",
   "pygments_lexer": "ipython3",
   "version": "3.8.3"
  }
 },
 "nbformat": 4,
 "nbformat_minor": 4
}
