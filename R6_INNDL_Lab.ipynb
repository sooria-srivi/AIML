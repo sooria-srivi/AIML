{
 "cells": [
  {
   "cell_type": "markdown",
   "metadata": {
    "id": "zUZjPnVXGz0Z"
   },
   "source": [
    "# The Iris Dataset\n",
    "The data set consists of 50 samples from each of three species of Iris (Iris setosa, Iris virginica and Iris versicolor). Four features were measured from each sample: the length and the width of the sepals and petals, in centimeters.\n",
    "\n",
    "The dataset contains a set of 150 records under five attributes - petal length, petal width, sepal length, sepal width and species."
   ]
  },
  {
   "cell_type": "markdown",
   "metadata": {
    "id": "RMbmpriavLE9"
   },
   "source": [
    "### Specifying the TensorFlow version\n",
    "Running `import tensorflow` will import the default version (currently 1.x). You can use 2.x by running a cell with the `tensorflow_version` magic **before** you run `import tensorflow`."
   ]
  },
  {
   "cell_type": "code",
   "execution_count": 1,
   "metadata": {
    "id": "fu8bUU__oa7h"
   },
   "outputs": [],
   "source": [
    "%tensorflow_version 2.x"
   ]
  },
  {
   "cell_type": "markdown",
   "metadata": {
    "id": "bLz1Ckvfvn6D"
   },
   "source": [
    "### Import TensorFlow\n",
    "Once you have specified a version via this magic, you can run `import tensorflow` as normal and verify which version was imported as follows:"
   ]
  },
  {
   "cell_type": "code",
   "execution_count": 2,
   "metadata": {
    "colab": {
     "base_uri": "https://localhost:8080/"
    },
    "id": "R1E8KrF-6bvT",
    "outputId": "5d94e8c4-cbd0-4ccc-a018-f7413aff310e"
   },
   "outputs": [
    {
     "name": "stdout",
     "output_type": "stream",
     "text": [
      "Drive already mounted at /content/drive; to attempt to forcibly remount, call drive.mount(\"/content/drive\", force_remount=True).\n"
     ]
    }
   ],
   "source": [
    "from google.colab import drive\n",
    "drive.mount('/content/drive')"
   ]
  },
  {
   "cell_type": "code",
   "execution_count": 3,
   "metadata": {
    "colab": {
     "base_uri": "https://localhost:8080/"
    },
    "id": "CWrzVTLOvn6M",
    "outputId": "1198abf4-cff2-4121-ff51-657a1b44dec1"
   },
   "outputs": [
    {
     "name": "stdout",
     "output_type": "stream",
     "text": [
      "2.4.1\n"
     ]
    }
   ],
   "source": [
    "import tensorflow as tf\n",
    "print(tf.__version__)"
   ]
  },
  {
   "cell_type": "markdown",
   "metadata": {
    "id": "_uYeJgkNuXNC"
   },
   "source": [
    "### Set random seed"
   ]
  },
  {
   "cell_type": "code",
   "execution_count": 4,
   "metadata": {
    "id": "lcASNsewsfQX"
   },
   "outputs": [],
   "source": [
    "tf.random.set_seed(42)"
   ]
  },
  {
   "cell_type": "markdown",
   "metadata": {
    "id": "5-vVQBBqg7DI"
   },
   "source": [
    "## Question 1"
   ]
  },
  {
   "cell_type": "markdown",
   "metadata": {
    "id": "kE0EDKvQhEIe"
   },
   "source": [
    "### Import dataset\n",
    "- Import iris dataset\n",
    "- Import the dataset using sklearn library"
   ]
  },
  {
   "cell_type": "code",
   "execution_count": 5,
   "metadata": {
    "id": "fH8XRratAamz"
   },
   "outputs": [],
   "source": [
    "import numpy as np\n",
    "from sklearn.model_selection import train_test_split"
   ]
  },
  {
   "cell_type": "code",
   "execution_count": 6,
   "metadata": {
    "colab": {
     "base_uri": "https://localhost:8080/"
    },
    "id": "IOOWpD26Haq3",
    "outputId": "40c3f343-b652-49fc-f5e9-162ca071de12"
   },
   "outputs": [
    {
     "data": {
      "text/plain": [
       "sklearn.utils.Bunch"
      ]
     },
     "execution_count": 6,
     "metadata": {
      "tags": []
     },
     "output_type": "execute_result"
    }
   ],
   "source": [
    "from sklearn.datasets import load_iris\n",
    "iris = load_iris()\n",
    "type(iris)"
   ]
  },
  {
   "cell_type": "markdown",
   "metadata": {
    "id": "ta8YqInTh5v5"
   },
   "source": [
    "## Question 2"
   ]
  },
  {
   "cell_type": "markdown",
   "metadata": {
    "id": "HERt3drbhX0i"
   },
   "source": [
    "### Get features and label from the dataset in separate variable\n",
    "- you can get the features using .data method\n",
    "- you can get the features using .target method"
   ]
  },
  {
   "cell_type": "code",
   "execution_count": 7,
   "metadata": {
    "id": "0cV-_qHAHyvE"
   },
   "outputs": [],
   "source": [
    "X = iris.data"
   ]
  },
  {
   "cell_type": "code",
   "execution_count": 8,
   "metadata": {
    "id": "E0acQiE--bJW"
   },
   "outputs": [],
   "source": [
    "y = iris.target"
   ]
  },
  {
   "cell_type": "code",
   "execution_count": 9,
   "metadata": {
    "colab": {
     "base_uri": "https://localhost:8080/"
    },
    "id": "alEhXnYQ-_Hv",
    "outputId": "5198a746-9bab-4182-8887-84b15c576fcd"
   },
   "outputs": [
    {
     "data": {
      "text/plain": [
       "(150, 4)"
      ]
     },
     "execution_count": 9,
     "metadata": {
      "tags": []
     },
     "output_type": "execute_result"
    }
   ],
   "source": [
    "X.shape"
   ]
  },
  {
   "cell_type": "code",
   "execution_count": 10,
   "metadata": {
    "colab": {
     "base_uri": "https://localhost:8080/"
    },
    "id": "rd_fofkY_0-q",
    "outputId": "cfffefc8-50e3-4739-c956-cb448db59bf8"
   },
   "outputs": [
    {
     "data": {
      "text/plain": [
       "array([0, 1, 2])"
      ]
     },
     "execution_count": 10,
     "metadata": {
      "tags": []
     },
     "output_type": "execute_result"
    }
   ],
   "source": [
    "np.unique(y)"
   ]
  },
  {
   "cell_type": "markdown",
   "metadata": {
    "id": "DNwiigVHBbhE"
   },
   "source": [
    "There are 150 rows and 4 columns. 3 labels in target column."
   ]
  },
  {
   "cell_type": "markdown",
   "metadata": {
    "id": "l3pQ8pGBBXkU"
   },
   "source": [
    "## New Section"
   ]
  },
  {
   "cell_type": "markdown",
   "metadata": {
    "id": "Qg1A2lkUjFak"
   },
   "source": [
    "## Question 3"
   ]
  },
  {
   "cell_type": "markdown",
   "metadata": {
    "id": "3YErwYLCH0N_"
   },
   "source": [
    "### Create train and test data\n",
    "- use train_test_split to get train and test set\n",
    "- set a random_state\n",
    "- test_size: 0.25"
   ]
  },
  {
   "cell_type": "code",
   "execution_count": 11,
   "metadata": {
    "colab": {
     "base_uri": "https://localhost:8080/"
    },
    "id": "TYKNJL85h7pQ",
    "outputId": "fab0fb6f-bec3-4ab1-f27c-ecbc5b2c276e"
   },
   "outputs": [
    {
     "name": "stdout",
     "output_type": "stream",
     "text": [
      "(112, 4)\n",
      "(38, 4)\n"
     ]
    }
   ],
   "source": [
    "x_train, x_test, y_train, y_test = train_test_split(X,y,test_size=0.25,random_state=112)\n",
    "print(x_train.shape)\n",
    "print(x_test.shape)"
   ]
  },
  {
   "cell_type": "markdown",
   "metadata": {
    "id": "g0KVP17Ozaix"
   },
   "source": [
    "## Question 4"
   ]
  },
  {
   "cell_type": "markdown",
   "metadata": {
    "id": "SIjqxbhWv1zv"
   },
   "source": [
    "### One-hot encode the labels\n",
    "- convert class vectors (integers) to binary class matrix\n",
    "- convert labels\n",
    "- number of classes: 3\n",
    "- we are doing this to use categorical_crossentropy as loss"
   ]
  },
  {
   "cell_type": "code",
   "execution_count": 12,
   "metadata": {
    "id": "R9vv-_gpyLY9"
   },
   "outputs": [],
   "source": [
    "en_y_train = tf.keras.utils.to_categorical(y_train,num_classes=3)\n",
    "en_y_test = tf.keras.utils.to_categorical(y_test,num_classes=3)\n"
   ]
  },
  {
   "cell_type": "code",
   "execution_count": 13,
   "metadata": {
    "colab": {
     "base_uri": "https://localhost:8080/"
    },
    "id": "ipwTSBSnC55p",
    "outputId": "10db07e2-2bdb-439a-d68d-15447c59c8db"
   },
   "outputs": [
    {
     "data": {
      "text/plain": [
       "array([[0., 1., 0.],\n",
       "       [1., 0., 0.],\n",
       "       [1., 0., 0.],\n",
       "       [0., 0., 1.],\n",
       "       [0., 0., 1.]], dtype=float32)"
      ]
     },
     "execution_count": 13,
     "metadata": {
      "tags": []
     },
     "output_type": "execute_result"
    }
   ],
   "source": [
    "en_y_train[0:5,:]"
   ]
  },
  {
   "cell_type": "code",
   "execution_count": 14,
   "metadata": {
    "colab": {
     "base_uri": "https://localhost:8080/"
    },
    "id": "mijR2SlVEw-x",
    "outputId": "2bced581-855e-400b-bcd1-766239f5956d"
   },
   "outputs": [
    {
     "data": {
      "text/plain": [
       "array([[1., 0., 0.],\n",
       "       [1., 0., 0.],\n",
       "       [0., 1., 0.],\n",
       "       [1., 0., 0.],\n",
       "       [0., 0., 1.]], dtype=float32)"
      ]
     },
     "execution_count": 14,
     "metadata": {
      "tags": []
     },
     "output_type": "execute_result"
    }
   ],
   "source": [
    "en_y_test[0:5,:]"
   ]
  },
  {
   "cell_type": "markdown",
   "metadata": {
    "id": "ovjLyYzWkO9s"
   },
   "source": [
    "## Question 5"
   ]
  },
  {
   "cell_type": "markdown",
   "metadata": {
    "id": "hbIFzoPNSyYo"
   },
   "source": [
    "### Initialize a sequential model\n",
    "- Define a sequential model"
   ]
  },
  {
   "cell_type": "code",
   "execution_count": 15,
   "metadata": {
    "id": "4FvSbf1UjHtl"
   },
   "outputs": [],
   "source": [
    "model = tf.keras.models.Sequential()\n"
   ]
  },
  {
   "cell_type": "markdown",
   "metadata": {
    "id": "dGMy999vlacX"
   },
   "source": [
    "## Question 6"
   ]
  },
  {
   "cell_type": "markdown",
   "metadata": {
    "id": "72ibK5Jxm8iL"
   },
   "source": [
    "### Add a layer\n",
    "- Use Dense Layer  with input shape of 4 (according to the feature set) and number of outputs set to 3\n",
    "- Apply Softmax on Dense Layer outputs"
   ]
  },
  {
   "cell_type": "code",
   "execution_count": 16,
   "metadata": {
    "id": "uZKrBNSRm_o9"
   },
   "outputs": [],
   "source": [
    "model.add(tf.keras.layers.Dense(3, activation='softmax', input_shape=(4,)))"
   ]
  },
  {
   "cell_type": "code",
   "execution_count": 17,
   "metadata": {
    "colab": {
     "base_uri": "https://localhost:8080/"
    },
    "id": "_Db2P3HHGJVb",
    "outputId": "adc0e830-d8a0-47c7-f383-ec7c59133d6d"
   },
   "outputs": [
    {
     "name": "stdout",
     "output_type": "stream",
     "text": [
      "Model: \"sequential\"\n",
      "_________________________________________________________________\n",
      "Layer (type)                 Output Shape              Param #   \n",
      "=================================================================\n",
      "dense (Dense)                (None, 3)                 15        \n",
      "=================================================================\n",
      "Total params: 15\n",
      "Trainable params: 15\n",
      "Non-trainable params: 0\n",
      "_________________________________________________________________\n"
     ]
    }
   ],
   "source": [
    "model.summary()"
   ]
  },
  {
   "cell_type": "markdown",
   "metadata": {
    "id": "i4uiTH8plmNX"
   },
   "source": [
    "## Question 7"
   ]
  },
  {
   "cell_type": "markdown",
   "metadata": {
    "id": "yJL8n8vcSyYz"
   },
   "source": [
    "### Compile the model\n",
    "- Use SGD as Optimizer\n",
    "- Use categorical_crossentropy as loss function\n",
    "- Use accuracy as metrics"
   ]
  },
  {
   "cell_type": "code",
   "execution_count": 18,
   "metadata": {
    "id": "Tc_-fjIEk1ve"
   },
   "outputs": [],
   "source": [
    "model.compile(optimizer='sgd', loss='categorical_crossentropy', metrics='accuracy')"
   ]
  },
  {
   "cell_type": "markdown",
   "metadata": {
    "id": "n7sIu8GMJkAX"
   },
   "source": []
  },
  {
   "cell_type": "markdown",
   "metadata": {
    "id": "sihIGbRll_jT"
   },
   "source": [
    "## Question 8"
   ]
  },
  {
   "cell_type": "markdown",
   "metadata": {
    "id": "54ZZCfNGlu0i"
   },
   "source": [
    "### Summarize the model\n",
    "- Check model layers\n",
    "- Understand number of trainable parameters"
   ]
  },
  {
   "cell_type": "code",
   "execution_count": 19,
   "metadata": {
    "colab": {
     "base_uri": "https://localhost:8080/"
    },
    "id": "elER3F_4ln8n",
    "outputId": "54cd49ba-bd1a-46c8-9da8-4d6f9f84efb7"
   },
   "outputs": [
    {
     "name": "stdout",
     "output_type": "stream",
     "text": [
      "Model: \"sequential\"\n",
      "_________________________________________________________________\n",
      "Layer (type)                 Output Shape              Param #   \n",
      "=================================================================\n",
      "dense (Dense)                (None, 3)                 15        \n",
      "=================================================================\n",
      "Total params: 15\n",
      "Trainable params: 15\n",
      "Non-trainable params: 0\n",
      "_________________________________________________________________\n"
     ]
    }
   ],
   "source": [
    "model.summary()"
   ]
  },
  {
   "cell_type": "markdown",
   "metadata": {
    "id": "25Gks4hCIalO"
   },
   "source": [
    "There are 4 neurons in input layer and final layer has 3 labels and hence \n",
    "4 * 3 = 12 \n",
    "There will be 3 biases hence param# is **15**"
   ]
  },
  {
   "cell_type": "markdown",
   "metadata": {
    "id": "2PiP7j3Vmj4p"
   },
   "source": [
    "## Question 9"
   ]
  },
  {
   "cell_type": "markdown",
   "metadata": {
    "id": "u_vKoAPXH6sC"
   },
   "source": []
  },
  {
   "cell_type": "markdown",
   "metadata": {
    "id": "rWdbfFCXmCHt"
   },
   "source": [
    "### Fit the model\n",
    "- Give train data as training features and labels\n",
    "- Epochs: 100\n",
    "- Give validation data as testing features and labels"
   ]
  },
  {
   "cell_type": "code",
   "execution_count": 20,
   "metadata": {
    "colab": {
     "base_uri": "https://localhost:8080/"
    },
    "id": "cO1c-5tjmBVZ",
    "outputId": "50ccab1a-ba9a-4fb1-8b70-683d99dac60b"
   },
   "outputs": [
    {
     "name": "stdout",
     "output_type": "stream",
     "text": [
      "Epoch 1/100\n",
      "4/4 [==============================] - 1s 145ms/step - loss: 2.6563 - accuracy: 0.3844 - val_loss: 2.2931 - val_accuracy: 0.2105\n",
      "Epoch 2/100\n",
      "4/4 [==============================] - 0s 14ms/step - loss: 1.6607 - accuracy: 0.3932 - val_loss: 1.6516 - val_accuracy: 0.1842\n",
      "Epoch 3/100\n",
      "4/4 [==============================] - 0s 13ms/step - loss: 1.3731 - accuracy: 0.3452 - val_loss: 1.3742 - val_accuracy: 0.1053\n",
      "Epoch 4/100\n",
      "4/4 [==============================] - 0s 12ms/step - loss: 1.2455 - accuracy: 0.1568 - val_loss: 1.2513 - val_accuracy: 0.2105\n",
      "Epoch 5/100\n",
      "4/4 [==============================] - 0s 14ms/step - loss: 1.2263 - accuracy: 0.1693 - val_loss: 1.2227 - val_accuracy: 0.3158\n",
      "Epoch 6/100\n",
      "4/4 [==============================] - 0s 13ms/step - loss: 1.1448 - accuracy: 0.3536 - val_loss: 1.1637 - val_accuracy: 0.2895\n",
      "Epoch 7/100\n",
      "4/4 [==============================] - 0s 13ms/step - loss: 1.1249 - accuracy: 0.2830 - val_loss: 1.1133 - val_accuracy: 0.3421\n",
      "Epoch 8/100\n",
      "4/4 [==============================] - 0s 12ms/step - loss: 1.1146 - accuracy: 0.2524 - val_loss: 1.0926 - val_accuracy: 0.3684\n",
      "Epoch 9/100\n",
      "4/4 [==============================] - 0s 16ms/step - loss: 1.0551 - accuracy: 0.3275 - val_loss: 1.0629 - val_accuracy: 0.3947\n",
      "Epoch 10/100\n",
      "4/4 [==============================] - 0s 13ms/step - loss: 1.0382 - accuracy: 0.4878 - val_loss: 1.0317 - val_accuracy: 0.4211\n",
      "Epoch 11/100\n",
      "4/4 [==============================] - 0s 14ms/step - loss: 0.9708 - accuracy: 0.5743 - val_loss: 0.9889 - val_accuracy: 0.4474\n",
      "Epoch 12/100\n",
      "4/4 [==============================] - 0s 13ms/step - loss: 0.9735 - accuracy: 0.5560 - val_loss: 0.9653 - val_accuracy: 0.5263\n",
      "Epoch 13/100\n",
      "4/4 [==============================] - 0s 15ms/step - loss: 0.9544 - accuracy: 0.5371 - val_loss: 0.9485 - val_accuracy: 0.5526\n",
      "Epoch 14/100\n",
      "4/4 [==============================] - 0s 14ms/step - loss: 0.8911 - accuracy: 0.6231 - val_loss: 0.9215 - val_accuracy: 0.5526\n",
      "Epoch 15/100\n",
      "4/4 [==============================] - 0s 13ms/step - loss: 0.9008 - accuracy: 0.5830 - val_loss: 0.9010 - val_accuracy: 0.6316\n",
      "Epoch 16/100\n",
      "4/4 [==============================] - 0s 14ms/step - loss: 0.8734 - accuracy: 0.6405 - val_loss: 0.8666 - val_accuracy: 0.5526\n",
      "Epoch 17/100\n",
      "4/4 [==============================] - 0s 13ms/step - loss: 0.8569 - accuracy: 0.6638 - val_loss: 0.8520 - val_accuracy: 0.5526\n",
      "Epoch 18/100\n",
      "4/4 [==============================] - 0s 13ms/step - loss: 0.8289 - accuracy: 0.6737 - val_loss: 0.8360 - val_accuracy: 0.5526\n",
      "Epoch 19/100\n",
      "4/4 [==============================] - 0s 16ms/step - loss: 0.8387 - accuracy: 0.6509 - val_loss: 0.8286 - val_accuracy: 0.6053\n",
      "Epoch 20/100\n",
      "4/4 [==============================] - 0s 14ms/step - loss: 0.8375 - accuracy: 0.6685 - val_loss: 0.8139 - val_accuracy: 0.5789\n",
      "Epoch 21/100\n",
      "4/4 [==============================] - 0s 13ms/step - loss: 0.8234 - accuracy: 0.6009 - val_loss: 0.8051 - val_accuracy: 0.5526\n",
      "Epoch 22/100\n",
      "4/4 [==============================] - 0s 13ms/step - loss: 0.7789 - accuracy: 0.6415 - val_loss: 0.8021 - val_accuracy: 0.6316\n",
      "Epoch 23/100\n",
      "4/4 [==============================] - 0s 12ms/step - loss: 0.7660 - accuracy: 0.7071 - val_loss: 0.7753 - val_accuracy: 0.5789\n",
      "Epoch 24/100\n",
      "4/4 [==============================] - 0s 13ms/step - loss: 0.7558 - accuracy: 0.7186 - val_loss: 0.7562 - val_accuracy: 0.6579\n",
      "Epoch 25/100\n",
      "4/4 [==============================] - 0s 13ms/step - loss: 0.7563 - accuracy: 0.6603 - val_loss: 0.7450 - val_accuracy: 0.6579\n",
      "Epoch 26/100\n",
      "4/4 [==============================] - 0s 12ms/step - loss: 0.7207 - accuracy: 0.6510 - val_loss: 0.7398 - val_accuracy: 0.6316\n",
      "Epoch 27/100\n",
      "4/4 [==============================] - 0s 15ms/step - loss: 0.7213 - accuracy: 0.6693 - val_loss: 0.7326 - val_accuracy: 0.6316\n",
      "Epoch 28/100\n",
      "4/4 [==============================] - 0s 13ms/step - loss: 0.7082 - accuracy: 0.7129 - val_loss: 0.7253 - val_accuracy: 0.6579\n",
      "Epoch 29/100\n",
      "4/4 [==============================] - 0s 13ms/step - loss: 0.7172 - accuracy: 0.6583 - val_loss: 0.7154 - val_accuracy: 0.6579\n",
      "Epoch 30/100\n",
      "4/4 [==============================] - 0s 13ms/step - loss: 0.7001 - accuracy: 0.7180 - val_loss: 0.7120 - val_accuracy: 0.7368\n",
      "Epoch 31/100\n",
      "4/4 [==============================] - 0s 13ms/step - loss: 0.6990 - accuracy: 0.7049 - val_loss: 0.6994 - val_accuracy: 0.6842\n",
      "Epoch 32/100\n",
      "4/4 [==============================] - 0s 13ms/step - loss: 0.6879 - accuracy: 0.6878 - val_loss: 0.6933 - val_accuracy: 0.7105\n",
      "Epoch 33/100\n",
      "4/4 [==============================] - 0s 13ms/step - loss: 0.6729 - accuracy: 0.7692 - val_loss: 0.6899 - val_accuracy: 0.7368\n",
      "Epoch 34/100\n",
      "4/4 [==============================] - 0s 14ms/step - loss: 0.6613 - accuracy: 0.7350 - val_loss: 0.6738 - val_accuracy: 0.7368\n",
      "Epoch 35/100\n",
      "4/4 [==============================] - 0s 14ms/step - loss: 0.6425 - accuracy: 0.7275 - val_loss: 0.6799 - val_accuracy: 0.7105\n",
      "Epoch 36/100\n",
      "4/4 [==============================] - 0s 15ms/step - loss: 0.6655 - accuracy: 0.6970 - val_loss: 0.6589 - val_accuracy: 0.7368\n",
      "Epoch 37/100\n",
      "4/4 [==============================] - 0s 13ms/step - loss: 0.6311 - accuracy: 0.7010 - val_loss: 0.6560 - val_accuracy: 0.7368\n",
      "Epoch 38/100\n",
      "4/4 [==============================] - 0s 13ms/step - loss: 0.6505 - accuracy: 0.7168 - val_loss: 0.6482 - val_accuracy: 0.7105\n",
      "Epoch 39/100\n",
      "4/4 [==============================] - 0s 13ms/step - loss: 0.6588 - accuracy: 0.6945 - val_loss: 0.6425 - val_accuracy: 0.7368\n",
      "Epoch 40/100\n",
      "4/4 [==============================] - 0s 15ms/step - loss: 0.6350 - accuracy: 0.6740 - val_loss: 0.6412 - val_accuracy: 0.7895\n",
      "Epoch 41/100\n",
      "4/4 [==============================] - 0s 13ms/step - loss: 0.6230 - accuracy: 0.6999 - val_loss: 0.6340 - val_accuracy: 0.7632\n",
      "Epoch 42/100\n",
      "4/4 [==============================] - 0s 13ms/step - loss: 0.5842 - accuracy: 0.7487 - val_loss: 0.6319 - val_accuracy: 0.7632\n",
      "Epoch 43/100\n",
      "4/4 [==============================] - 0s 14ms/step - loss: 0.6091 - accuracy: 0.7525 - val_loss: 0.6390 - val_accuracy: 0.7105\n",
      "Epoch 44/100\n",
      "4/4 [==============================] - 0s 15ms/step - loss: 0.5928 - accuracy: 0.8033 - val_loss: 0.6231 - val_accuracy: 0.7895\n",
      "Epoch 45/100\n",
      "4/4 [==============================] - 0s 13ms/step - loss: 0.6068 - accuracy: 0.7598 - val_loss: 0.6193 - val_accuracy: 0.7895\n",
      "Epoch 46/100\n",
      "4/4 [==============================] - 0s 13ms/step - loss: 0.5862 - accuracy: 0.7674 - val_loss: 0.6105 - val_accuracy: 0.7895\n",
      "Epoch 47/100\n",
      "4/4 [==============================] - 0s 12ms/step - loss: 0.5884 - accuracy: 0.7406 - val_loss: 0.6070 - val_accuracy: 0.7895\n",
      "Epoch 48/100\n",
      "4/4 [==============================] - 0s 13ms/step - loss: 0.6115 - accuracy: 0.7259 - val_loss: 0.6021 - val_accuracy: 0.8421\n",
      "Epoch 49/100\n",
      "4/4 [==============================] - 0s 15ms/step - loss: 0.5764 - accuracy: 0.7423 - val_loss: 0.6017 - val_accuracy: 0.7895\n",
      "Epoch 50/100\n",
      "4/4 [==============================] - 0s 13ms/step - loss: 0.5819 - accuracy: 0.7613 - val_loss: 0.6051 - val_accuracy: 0.7632\n",
      "Epoch 51/100\n",
      "4/4 [==============================] - 0s 13ms/step - loss: 0.5898 - accuracy: 0.7893 - val_loss: 0.5997 - val_accuracy: 0.7632\n",
      "Epoch 52/100\n",
      "4/4 [==============================] - 0s 14ms/step - loss: 0.5661 - accuracy: 0.7805 - val_loss: 0.5995 - val_accuracy: 0.7632\n",
      "Epoch 53/100\n",
      "4/4 [==============================] - 0s 13ms/step - loss: 0.5750 - accuracy: 0.8048 - val_loss: 0.5940 - val_accuracy: 0.7632\n",
      "Epoch 54/100\n",
      "4/4 [==============================] - 0s 13ms/step - loss: 0.5405 - accuracy: 0.8210 - val_loss: 0.5872 - val_accuracy: 0.7632\n",
      "Epoch 55/100\n",
      "4/4 [==============================] - 0s 13ms/step - loss: 0.5739 - accuracy: 0.7613 - val_loss: 0.5831 - val_accuracy: 0.7895\n",
      "Epoch 56/100\n",
      "4/4 [==============================] - 0s 14ms/step - loss: 0.5509 - accuracy: 0.8006 - val_loss: 0.5750 - val_accuracy: 0.8158\n",
      "Epoch 57/100\n",
      "4/4 [==============================] - 0s 14ms/step - loss: 0.5526 - accuracy: 0.7836 - val_loss: 0.5754 - val_accuracy: 0.7895\n",
      "Epoch 58/100\n",
      "4/4 [==============================] - 0s 15ms/step - loss: 0.5477 - accuracy: 0.7830 - val_loss: 0.5698 - val_accuracy: 0.8158\n",
      "Epoch 59/100\n",
      "4/4 [==============================] - 0s 14ms/step - loss: 0.5450 - accuracy: 0.7680 - val_loss: 0.5699 - val_accuracy: 0.7895\n",
      "Epoch 60/100\n",
      "4/4 [==============================] - 0s 17ms/step - loss: 0.5456 - accuracy: 0.7670 - val_loss: 0.5708 - val_accuracy: 0.7632\n",
      "Epoch 61/100\n",
      "4/4 [==============================] - 0s 14ms/step - loss: 0.5512 - accuracy: 0.7808 - val_loss: 0.5586 - val_accuracy: 0.8684\n",
      "Epoch 62/100\n",
      "4/4 [==============================] - 0s 13ms/step - loss: 0.5397 - accuracy: 0.7866 - val_loss: 0.5498 - val_accuracy: 0.8421\n",
      "Epoch 63/100\n",
      "4/4 [==============================] - 0s 14ms/step - loss: 0.5414 - accuracy: 0.7649 - val_loss: 0.5491 - val_accuracy: 0.8684\n",
      "Epoch 64/100\n",
      "4/4 [==============================] - 0s 14ms/step - loss: 0.5350 - accuracy: 0.7778 - val_loss: 0.5454 - val_accuracy: 0.8684\n",
      "Epoch 65/100\n",
      "4/4 [==============================] - 0s 13ms/step - loss: 0.5454 - accuracy: 0.7618 - val_loss: 0.5455 - val_accuracy: 0.8684\n",
      "Epoch 66/100\n",
      "4/4 [==============================] - 0s 13ms/step - loss: 0.5179 - accuracy: 0.8162 - val_loss: 0.5455 - val_accuracy: 0.8947\n",
      "Epoch 67/100\n",
      "4/4 [==============================] - 0s 15ms/step - loss: 0.5241 - accuracy: 0.8131 - val_loss: 0.5458 - val_accuracy: 0.8158\n",
      "Epoch 68/100\n",
      "4/4 [==============================] - 0s 17ms/step - loss: 0.5205 - accuracy: 0.7893 - val_loss: 0.5467 - val_accuracy: 0.7895\n",
      "Epoch 69/100\n",
      "4/4 [==============================] - 0s 15ms/step - loss: 0.5326 - accuracy: 0.7747 - val_loss: 0.5463 - val_accuracy: 0.7895\n",
      "Epoch 70/100\n",
      "4/4 [==============================] - 0s 16ms/step - loss: 0.5240 - accuracy: 0.8098 - val_loss: 0.5445 - val_accuracy: 0.7895\n",
      "Epoch 71/100\n",
      "4/4 [==============================] - 0s 15ms/step - loss: 0.5428 - accuracy: 0.8071 - val_loss: 0.5352 - val_accuracy: 0.8947\n",
      "Epoch 72/100\n",
      "4/4 [==============================] - 0s 13ms/step - loss: 0.5315 - accuracy: 0.7835 - val_loss: 0.5321 - val_accuracy: 0.8947\n",
      "Epoch 73/100\n",
      "4/4 [==============================] - 0s 13ms/step - loss: 0.5219 - accuracy: 0.8119 - val_loss: 0.5322 - val_accuracy: 0.8947\n",
      "Epoch 74/100\n",
      "4/4 [==============================] - 0s 13ms/step - loss: 0.5172 - accuracy: 0.8342 - val_loss: 0.5278 - val_accuracy: 0.8947\n",
      "Epoch 75/100\n",
      "4/4 [==============================] - 0s 14ms/step - loss: 0.5159 - accuracy: 0.8083 - val_loss: 0.5291 - val_accuracy: 0.8684\n",
      "Epoch 76/100\n",
      "4/4 [==============================] - 0s 14ms/step - loss: 0.5133 - accuracy: 0.8202 - val_loss: 0.5177 - val_accuracy: 0.8684\n",
      "Epoch 77/100\n",
      "4/4 [==============================] - 0s 14ms/step - loss: 0.5125 - accuracy: 0.7277 - val_loss: 0.5157 - val_accuracy: 0.8684\n",
      "Epoch 78/100\n",
      "4/4 [==============================] - 0s 13ms/step - loss: 0.5008 - accuracy: 0.7716 - val_loss: 0.5186 - val_accuracy: 0.8947\n",
      "Epoch 79/100\n",
      "4/4 [==============================] - 0s 15ms/step - loss: 0.5212 - accuracy: 0.8222 - val_loss: 0.5165 - val_accuracy: 0.8947\n",
      "Epoch 80/100\n",
      "4/4 [==============================] - 0s 18ms/step - loss: 0.5035 - accuracy: 0.8295 - val_loss: 0.5092 - val_accuracy: 0.8684\n",
      "Epoch 81/100\n",
      "4/4 [==============================] - 0s 14ms/step - loss: 0.4952 - accuracy: 0.7317 - val_loss: 0.5096 - val_accuracy: 0.8684\n",
      "Epoch 82/100\n",
      "4/4 [==============================] - 0s 14ms/step - loss: 0.4879 - accuracy: 0.7991 - val_loss: 0.5088 - val_accuracy: 0.8947\n",
      "Epoch 83/100\n",
      "4/4 [==============================] - 0s 15ms/step - loss: 0.5019 - accuracy: 0.7732 - val_loss: 0.5123 - val_accuracy: 0.8947\n",
      "Epoch 84/100\n",
      "4/4 [==============================] - 0s 13ms/step - loss: 0.4973 - accuracy: 0.8286 - val_loss: 0.5120 - val_accuracy: 0.8684\n",
      "Epoch 85/100\n",
      "4/4 [==============================] - 0s 14ms/step - loss: 0.5169 - accuracy: 0.8118 - val_loss: 0.5052 - val_accuracy: 0.8947\n",
      "Epoch 86/100\n",
      "4/4 [==============================] - 0s 13ms/step - loss: 0.4858 - accuracy: 0.8177 - val_loss: 0.5064 - val_accuracy: 0.8947\n",
      "Epoch 87/100\n",
      "4/4 [==============================] - 0s 13ms/step - loss: 0.4884 - accuracy: 0.8555 - val_loss: 0.5023 - val_accuracy: 0.8947\n",
      "Epoch 88/100\n",
      "4/4 [==============================] - 0s 14ms/step - loss: 0.4633 - accuracy: 0.8400 - val_loss: 0.5053 - val_accuracy: 0.8684\n",
      "Epoch 89/100\n",
      "4/4 [==============================] - 0s 14ms/step - loss: 0.4583 - accuracy: 0.8374 - val_loss: 0.5006 - val_accuracy: 0.8947\n",
      "Epoch 90/100\n",
      "4/4 [==============================] - 0s 14ms/step - loss: 0.4688 - accuracy: 0.8638 - val_loss: 0.4913 - val_accuracy: 0.8684\n",
      "Epoch 91/100\n",
      "4/4 [==============================] - 0s 15ms/step - loss: 0.4686 - accuracy: 0.8189 - val_loss: 0.4949 - val_accuracy: 0.8947\n",
      "Epoch 92/100\n",
      "4/4 [==============================] - 0s 13ms/step - loss: 0.4653 - accuracy: 0.8488 - val_loss: 0.4959 - val_accuracy: 0.8947\n",
      "Epoch 93/100\n",
      "4/4 [==============================] - 0s 14ms/step - loss: 0.4763 - accuracy: 0.8668 - val_loss: 0.4909 - val_accuracy: 0.8947\n",
      "Epoch 94/100\n",
      "4/4 [==============================] - 0s 13ms/step - loss: 0.4745 - accuracy: 0.8004 - val_loss: 0.4919 - val_accuracy: 0.8947\n",
      "Epoch 95/100\n",
      "4/4 [==============================] - 0s 14ms/step - loss: 0.4949 - accuracy: 0.8237 - val_loss: 0.4924 - val_accuracy: 0.8947\n",
      "Epoch 96/100\n",
      "4/4 [==============================] - 0s 14ms/step - loss: 0.4677 - accuracy: 0.8570 - val_loss: 0.4861 - val_accuracy: 0.8947\n",
      "Epoch 97/100\n",
      "4/4 [==============================] - 0s 17ms/step - loss: 0.4668 - accuracy: 0.8540 - val_loss: 0.4901 - val_accuracy: 0.8947\n",
      "Epoch 98/100\n",
      "4/4 [==============================] - 0s 16ms/step - loss: 0.4703 - accuracy: 0.8372 - val_loss: 0.4892 - val_accuracy: 0.8947\n",
      "Epoch 99/100\n",
      "4/4 [==============================] - 0s 15ms/step - loss: 0.4701 - accuracy: 0.8363 - val_loss: 0.4827 - val_accuracy: 0.8947\n",
      "Epoch 100/100\n",
      "4/4 [==============================] - 0s 14ms/step - loss: 0.4812 - accuracy: 0.8180 - val_loss: 0.4823 - val_accuracy: 0.8947\n"
     ]
    },
    {
     "data": {
      "text/plain": [
       "<tensorflow.python.keras.callbacks.History at 0x7fe7462a03d0>"
      ]
     },
     "execution_count": 20,
     "metadata": {
      "tags": []
     },
     "output_type": "execute_result"
    }
   ],
   "source": [
    "model.fit(x_train, en_y_train, \n",
    "          validation_data=(x_test, en_y_test), \n",
    "          epochs=100)"
   ]
  },
  {
   "cell_type": "markdown",
   "metadata": {
    "id": "2FGCD7RaOUE2"
   },
   "source": [
    "epoc1 started with 90 training accuracy and 97 test accuracy, for epoch 100 training accuracy was increased to 93 and training accuracy is 97. The difference b/w train and test accuracy was reduced. Training more with many epocs and introducing additional layers and neurons ie with more hyperparm tuning accuracy will improve."
   ]
  },
  {
   "cell_type": "markdown",
   "metadata": {
    "id": "re9ItAR3yS3J"
   },
   "source": [
    "## Question 10"
   ]
  },
  {
   "cell_type": "markdown",
   "metadata": {
    "id": "liw0IFf9yVqH"
   },
   "source": [
    "### Make predictions\n",
    "- Predict labels on one row"
   ]
  },
  {
   "cell_type": "code",
   "execution_count": 21,
   "metadata": {
    "colab": {
     "base_uri": "https://localhost:8080/"
    },
    "id": "dclsLOOmM4hU",
    "outputId": "94166a24-87ab-4e1a-a4dc-890584fad14a"
   },
   "outputs": [
    {
     "data": {
      "text/plain": [
       "(1, 4)"
      ]
     },
     "execution_count": 21,
     "metadata": {
      "tags": []
     },
     "output_type": "execute_result"
    }
   ],
   "source": [
    "input_data = np.expand_dims(x_test[0], axis=0)\n",
    "input_data.shape"
   ]
  },
  {
   "cell_type": "code",
   "execution_count": 22,
   "metadata": {
    "colab": {
     "base_uri": "https://localhost:8080/"
    },
    "id": "H5sBybi6mlLl",
    "outputId": "58d14682-08a3-4bba-d72b-e63f23f21a9f"
   },
   "outputs": [
    {
     "data": {
      "text/plain": [
       "array([[0.9079893 , 0.05809062, 0.03392002]], dtype=float32)"
      ]
     },
     "execution_count": 22,
     "metadata": {
      "tags": []
     },
     "output_type": "execute_result"
    }
   ],
   "source": [
    "model.predict(input_data)"
   ]
  },
  {
   "cell_type": "markdown",
   "metadata": {
    "id": "hSUgMq3m0bG7"
   },
   "source": [
    "### Compare the prediction with actual label\n",
    "- Print the same row as done in the previous step but of actual labels"
   ]
  },
  {
   "cell_type": "code",
   "execution_count": 23,
   "metadata": {
    "colab": {
     "base_uri": "https://localhost:8080/"
    },
    "id": "K5WbwVPyz-qQ",
    "outputId": "b226b4d5-5ca3-459d-8b5a-af0dd1853e4f"
   },
   "outputs": [
    {
     "data": {
      "text/plain": [
       "array([1., 0., 0.], dtype=float32)"
      ]
     },
     "execution_count": 23,
     "metadata": {
      "tags": []
     },
     "output_type": "execute_result"
    }
   ],
   "source": [
    "en_y_test[0]"
   ]
  },
  {
   "cell_type": "markdown",
   "metadata": {
    "id": "wHlor1OTmMSI"
   },
   "source": [
    "The first example of test data actual is label 0 and predicted also label 0. "
   ]
  },
  {
   "cell_type": "markdown",
   "metadata": {
    "id": "FrTKwbgE7NFT"
   },
   "source": [
    "\n",
    "\n",
    "---\n",
    "\n"
   ]
  },
  {
   "cell_type": "markdown",
   "metadata": {
    "id": "a1UBYPNp5Tn1"
   },
   "source": [
    "# Stock prices dataset\n",
    "The data is of tock exchange's stock listings for each trading day of 2010 to 2016.\n",
    "\n",
    "## Description\n",
    "A brief description of columns.\n",
    "- open: The opening market price of the equity symbol on the date\n",
    "- high: The highest market price of the equity symbol on the date\n",
    "- low: The lowest recorded market price of the equity symbol on the date\n",
    "- close: The closing recorded price of the equity symbol on the date\n",
    "- symbol: Symbol of the listed company\n",
    "- volume: Total traded volume of the equity symbol on the date\n",
    "- date: Date of record"
   ]
  },
  {
   "cell_type": "markdown",
   "metadata": {
    "id": "ctH_ZW5g-M3g"
   },
   "source": [
    "### Specifying the TensorFlow version\n",
    "Running `import tensorflow` will import the default version (currently 1.x). You can use 2.x by running a cell with the `tensorflow_version` magic **before** you run `import tensorflow`."
   ]
  },
  {
   "cell_type": "code",
   "execution_count": 26,
   "metadata": {
    "id": "vQbdODpH-M3r"
   },
   "outputs": [],
   "source": [
    "%tensorflow_version 2.x"
   ]
  },
  {
   "cell_type": "markdown",
   "metadata": {
    "id": "nFQWH1tj-M38"
   },
   "source": [
    "### Import TensorFlow\n",
    "Once you have specified a version via this magic, you can run `import tensorflow` as normal and verify which version was imported as follows:"
   ]
  },
  {
   "cell_type": "code",
   "execution_count": 27,
   "metadata": {
    "colab": {
     "base_uri": "https://localhost:8080/"
    },
    "id": "Ho5n-xhd-M3_",
    "outputId": "34775a76-4087-4b94-e3aa-685a8f369ffc"
   },
   "outputs": [
    {
     "name": "stdout",
     "output_type": "stream",
     "text": [
      "2.4.1\n"
     ]
    }
   ],
   "source": [
    "import tensorflow as tf\n",
    "print(tf.__version__)"
   ]
  },
  {
   "cell_type": "markdown",
   "metadata": {
    "id": "tgkl0qu6-M4F"
   },
   "source": [
    "### Set random seed"
   ]
  },
  {
   "cell_type": "code",
   "execution_count": 28,
   "metadata": {
    "id": "TKgTyuA3-M4G"
   },
   "outputs": [],
   "source": [
    "tf.random.set_seed(42)"
   ]
  },
  {
   "cell_type": "markdown",
   "metadata": {
    "id": "_88voqAH-O6J"
   },
   "source": [
    "## Question 1"
   ]
  },
  {
   "cell_type": "markdown",
   "metadata": {
    "id": "dRHCeJqP-evf"
   },
   "source": [
    "### Load the data\n",
    "- load the csv file and read it using pandas\n",
    "- file name is prices.csv"
   ]
  },
  {
   "cell_type": "code",
   "execution_count": 29,
   "metadata": {
    "id": "cKVH5v7r-RmC"
   },
   "outputs": [],
   "source": [
    "# run this cell to upload file if you are using google colab\n",
    "#from google.colab import files\n",
    "#files.upload()"
   ]
  },
  {
   "cell_type": "code",
   "execution_count": 30,
   "metadata": {
    "id": "-gDC6cSW_FSK"
   },
   "outputs": [],
   "source": [
    "import pandas as pd\n",
    "df = pd.read_csv('/content/drive/MyDrive/Colab Notebooks/prices.csv')"
   ]
  },
  {
   "cell_type": "markdown",
   "metadata": {
    "id": "HlLKVPVH_BCT"
   },
   "source": [
    "## Question 2"
   ]
  },
  {
   "cell_type": "markdown",
   "metadata": {
    "id": "9J4BlzVA_gZd"
   },
   "source": [
    "### Drop columnns\n",
    "- drop \"date\" and \"symbol\" column from the data"
   ]
  },
  {
   "cell_type": "code",
   "execution_count": 31,
   "metadata": {
    "id": "IKEK8aEE_Csx"
   },
   "outputs": [],
   "source": [
    "df = df.drop(labels=['date','symbol'],axis=1)"
   ]
  },
  {
   "cell_type": "code",
   "execution_count": 32,
   "metadata": {
    "colab": {
     "base_uri": "https://localhost:8080/"
    },
    "id": "hPKcgEtKYfxl",
    "outputId": "395e6f59-e612-4840-a1ec-e93b86213391"
   },
   "outputs": [
    {
     "data": {
      "text/plain": [
       "(851264, 5)"
      ]
     },
     "execution_count": 32,
     "metadata": {
      "tags": []
     },
     "output_type": "execute_result"
    }
   ],
   "source": [
    "df.shape"
   ]
  },
  {
   "cell_type": "code",
   "execution_count": 33,
   "metadata": {
    "colab": {
     "base_uri": "https://localhost:8080/"
    },
    "id": "ebmksSngYh2f",
    "outputId": "b96d9a95-d312-49a1-c380-5947d6fd45e4"
   },
   "outputs": [
    {
     "data": {
      "text/plain": [
       "Index(['open', 'close', 'low', 'high', 'volume'], dtype='object')"
      ]
     },
     "execution_count": 33,
     "metadata": {
      "tags": []
     },
     "output_type": "execute_result"
    }
   ],
   "source": [
    "df.columns"
   ]
  },
  {
   "cell_type": "markdown",
   "metadata": {
    "id": "cTPhO6v-AiZt"
   },
   "source": [
    "## Question 3"
   ]
  },
  {
   "cell_type": "markdown",
   "metadata": {
    "id": "SsZXmF3NAkna"
   },
   "source": [
    "### Take initial rows\n",
    "- Take first 1000 rows from the data\n",
    "- This step is done to make the execution faster"
   ]
  },
  {
   "cell_type": "code",
   "execution_count": 34,
   "metadata": {
    "id": "aKs04iIHAjxN"
   },
   "outputs": [],
   "source": [
    "data = df.head(1000)"
   ]
  },
  {
   "cell_type": "code",
   "execution_count": 35,
   "metadata": {
    "colab": {
     "base_uri": "https://localhost:8080/"
    },
    "id": "dqHCoPLrYcYL",
    "outputId": "b51764a2-a27c-4fc9-ae68-e74ea271bb55"
   },
   "outputs": [
    {
     "data": {
      "text/plain": [
       "(1000, 5)"
      ]
     },
     "execution_count": 35,
     "metadata": {
      "tags": []
     },
     "output_type": "execute_result"
    }
   ],
   "source": [
    "data.shape"
   ]
  },
  {
   "cell_type": "markdown",
   "metadata": {
    "id": "6vGtnapgBIJm"
   },
   "source": [
    "## Question 4"
   ]
  },
  {
   "cell_type": "markdown",
   "metadata": {
    "id": "C8u_jlbABTip"
   },
   "source": [
    "### Get features and label from the dataset in separate variable\n",
    "- Take \"open\", \"close\", \"low\", \"high\" columns as features\n",
    "- Take \"volume\" column as label\n",
    "- Normalize label column by dividing it with 1000000"
   ]
  },
  {
   "cell_type": "code",
   "execution_count": 36,
   "metadata": {
    "id": "xQjCMzUXBJbg"
   },
   "outputs": [],
   "source": [
    "X = data[[\"open\", \"close\", \"low\", \"high\"]]\n",
    "y = data[['volume']]/1000000"
   ]
  },
  {
   "cell_type": "markdown",
   "metadata": {
    "id": "aTAKzlxZBz0z"
   },
   "source": [
    "## Question 5"
   ]
  },
  {
   "cell_type": "markdown",
   "metadata": {
    "id": "IfY8Km1Zzyt2"
   },
   "source": [
    "### Convert data\n",
    "- Convert features and labels to numpy array\n",
    "- Convert their data type to \"float32\""
   ]
  },
  {
   "cell_type": "code",
   "execution_count": 37,
   "metadata": {
    "id": "Nb7rMkt3ZWsY"
   },
   "outputs": [],
   "source": [
    "#X = np.asarray(X).astype('float32')"
   ]
  },
  {
   "cell_type": "code",
   "execution_count": 38,
   "metadata": {
    "id": "Ko7nnQVbYENh"
   },
   "outputs": [],
   "source": [
    "X = np.asarray(X,dtype='float32')\n",
    "y = np.asarray(y,dtype='float32')"
   ]
  },
  {
   "cell_type": "markdown",
   "metadata": {
    "id": "3TWpN0nVTpUx"
   },
   "source": [
    "## Question 6"
   ]
  },
  {
   "cell_type": "markdown",
   "metadata": {
    "id": "WQ1FKEs-4btX"
   },
   "source": [
    "### Normalize data\n",
    "- Normalize features\n",
    "- Use tf.math.l2_normalize to normalize features\n",
    "- You can read more about it here https://www.tensorflow.org/api_docs/python/tf/math/l2_normalize"
   ]
  },
  {
   "cell_type": "code",
   "execution_count": 39,
   "metadata": {
    "colab": {
     "base_uri": "https://localhost:8080/"
    },
    "id": "hCzUdHOtbEac",
    "outputId": "26711006-9fa2-4c2f-bf0e-87271ed368dd"
   },
   "outputs": [
    {
     "data": {
      "text/plain": [
       "array([[123.43, 125.84, 122.31, 126.25],\n",
       "       [125.24, 119.98, 119.94, 125.54],\n",
       "       [116.38, 114.95, 114.93, 119.74],\n",
       "       [115.48, 116.62, 113.5 , 117.44],\n",
       "       [117.01, 114.97, 114.09, 117.33]], dtype=float32)"
      ]
     },
     "execution_count": 39,
     "metadata": {
      "tags": []
     },
     "output_type": "execute_result"
    }
   ],
   "source": [
    "X[0:5,:]"
   ]
  },
  {
   "cell_type": "code",
   "execution_count": 40,
   "metadata": {
    "id": "V0Tfe00X78wB"
   },
   "outputs": [],
   "source": [
    "X = tf.math.l2_normalize(X)"
   ]
  },
  {
   "cell_type": "code",
   "execution_count": 41,
   "metadata": {
    "colab": {
     "base_uri": "https://localhost:8080/"
    },
    "id": "vR34lkUva8AQ",
    "outputId": "28d9c2c8-d893-46be-9424-c4ec9126ac04"
   },
   "outputs": [
    {
     "data": {
      "text/plain": [
       "<tf.Tensor: shape=(5, 4), dtype=float32, numpy=\n",
       "array([[0.02202893, 0.02245905, 0.02182904, 0.02253223],\n",
       "       [0.02235197, 0.0214132 , 0.02140606, 0.02240551],\n",
       "       [0.0207707 , 0.02051548, 0.02051191, 0.02137037],\n",
       "       [0.02061007, 0.02081353, 0.0202567 , 0.02095988],\n",
       "       [0.02088314, 0.02051905, 0.020362  , 0.02094025]], dtype=float32)>"
      ]
     },
     "execution_count": 41,
     "metadata": {
      "tags": []
     },
     "output_type": "execute_result"
    }
   ],
   "source": [
    "X[0:5,:]"
   ]
  },
  {
   "cell_type": "markdown",
   "metadata": {
    "id": "wmXUGc2oTspa"
   },
   "source": [
    "## Question 7"
   ]
  },
  {
   "cell_type": "markdown",
   "metadata": {
    "id": "VJelDMpzxs0L"
   },
   "source": [
    "### Define weight and bias\n",
    "- Initialize weight and bias with tf.zeros\n",
    "- tf.zeros is an initializer that generates tensors initialized to 0\n",
    "- Specify the value for shape"
   ]
  },
  {
   "cell_type": "code",
   "execution_count": 42,
   "metadata": {
    "id": "8o9RPWVTxs0O"
   },
   "outputs": [],
   "source": [
    "w = tf.zeros([4,1])\n",
    "b = tf.zeros([1])"
   ]
  },
  {
   "cell_type": "code",
   "execution_count": 43,
   "metadata": {
    "colab": {
     "base_uri": "https://localhost:8080/"
    },
    "id": "MyKrgog0cHT4",
    "outputId": "da17e253-242f-4f82-c0e0-5ba1a6c5eb3a"
   },
   "outputs": [
    {
     "data": {
      "text/plain": [
       "(<tf.Tensor: shape=(4, 1), dtype=float32, numpy=\n",
       " array([[0.],\n",
       "        [0.],\n",
       "        [0.],\n",
       "        [0.]], dtype=float32)>,\n",
       " <tf.Tensor: shape=(1,), dtype=float32, numpy=array([0.], dtype=float32)>)"
      ]
     },
     "execution_count": 43,
     "metadata": {
      "tags": []
     },
     "output_type": "execute_result"
    }
   ],
   "source": [
    "w,b"
   ]
  },
  {
   "cell_type": "markdown",
   "metadata": {
    "id": "8a0wr94aTyjg"
   },
   "source": [
    "## Question 8"
   ]
  },
  {
   "cell_type": "markdown",
   "metadata": {
    "id": "zMXXYdOSxs0Q"
   },
   "source": [
    "### Get prediction\n",
    "- Define a function to get prediction\n",
    "- Approach: prediction = (X * W) + b; here is X is features"
   ]
  },
  {
   "cell_type": "code",
   "execution_count": 44,
   "metadata": {
    "id": "U8Cty1y0xs0S"
   },
   "outputs": [],
   "source": [
    "def prediction(X,W,b):\n",
    "  return tf.add(tf.matmul(X,W),b)"
   ]
  },
  {
   "cell_type": "markdown",
   "metadata": {
    "id": "lQmS3Tauxs0V"
   },
   "source": [
    "### Calculate loss\n",
    "- Calculate loss using predictions\n",
    "- Define a function to calculate loss\n",
    "- We are calculating mean squared error"
   ]
  },
  {
   "cell_type": "code",
   "execution_count": 45,
   "metadata": {
    "id": "-FRXmDd5xs0X"
   },
   "outputs": [],
   "source": [
    "def calcloss(act,pred):\n",
    "   diff = act - pred\n",
    "   sqr = tf.square(diff)\n",
    "   loss = tf.reduce_mean(sqr)\n",
    "   return loss\n",
    "    "
   ]
  },
  {
   "cell_type": "markdown",
   "metadata": {
    "id": "ZbBpnOtfT0wd"
   },
   "source": [
    "## Question 9"
   ]
  },
  {
   "cell_type": "markdown",
   "metadata": {
    "id": "bkOzAUUsTmF_"
   },
   "source": [
    "### Define a function to train the model\n",
    "1.   Record all the mathematical steps to calculate Loss\n",
    "2.   Calculate Gradients of Loss w.r.t weights and bias\n",
    "3.   Update Weights and Bias based on gradients and learning rate to minimize loss"
   ]
  },
  {
   "cell_type": "code",
   "execution_count": 46,
   "metadata": {
    "id": "2R4uieGYLYtM"
   },
   "outputs": [],
   "source": [
    "def train(x, y_actual, w, b, learning_rate=0.01):\n",
    "    \n",
    "    #Record mathematical operations on 'tape' to calculate loss\n",
    "    with tf.GradientTape() as t:\n",
    "        \n",
    "        t.watch([w,b])\n",
    "        \n",
    "        current_prediction = prediction(x, w, b)\n",
    "        current_loss = calcloss(y_actual, current_prediction)\n",
    "    \n",
    "    #Calculate Gradients for Loss with respect to Weights and Bias\n",
    "    dw, db = t.gradient(current_loss,[w, b])\n",
    "    \n",
    "    #Update Weights and Bias - Gradient Descent\n",
    "    w = w - learning_rate*dw\n",
    "    b = b - learning_rate*db\n",
    "    \n",
    "    return w, b"
   ]
  },
  {
   "cell_type": "markdown",
   "metadata": {
    "id": "AW4SEP8kT2ls"
   },
   "source": [
    "## Question 10"
   ]
  },
  {
   "cell_type": "markdown",
   "metadata": {
    "id": "yeN0deOvT81N"
   },
   "source": [
    "### Train the model for 100 epochs \n",
    "- Observe the training loss at every iteration"
   ]
  },
  {
   "cell_type": "code",
   "execution_count": 47,
   "metadata": {
    "colab": {
     "base_uri": "https://localhost:8080/"
    },
    "id": "Jjkn4gUgLevE",
    "outputId": "ea921eb7-f782-4c72-8b9c-35b7fab10514"
   },
   "outputs": [
    {
     "name": "stdout",
     "output_type": "stream",
     "text": [
      "Current Loss on iteration 0 236.16805\n",
      "Current Loss on iteration 1 235.09369\n",
      "Current Loss on iteration 2 234.06194\n",
      "Current Loss on iteration 3 233.07103\n",
      "Current Loss on iteration 4 232.11937\n",
      "Current Loss on iteration 5 231.20546\n",
      "Current Loss on iteration 6 230.32774\n",
      "Current Loss on iteration 7 229.4848\n",
      "Current Loss on iteration 8 228.67522\n",
      "Current Loss on iteration 9 227.89775\n",
      "Current Loss on iteration 10 227.15106\n",
      "Current Loss on iteration 11 226.43399\n",
      "Current Loss on iteration 12 225.7453\n",
      "Current Loss on iteration 13 225.08392\n",
      "Current Loss on iteration 14 224.44872\n",
      "Current Loss on iteration 15 223.83868\n",
      "Current Loss on iteration 16 223.25284\n",
      "Current Loss on iteration 17 222.69019\n",
      "Current Loss on iteration 18 222.14981\n",
      "Current Loss on iteration 19 221.6309\n",
      "Current Loss on iteration 20 221.1325\n",
      "Current Loss on iteration 21 220.65384\n",
      "Current Loss on iteration 22 220.19417\n",
      "Current Loss on iteration 23 219.75272\n",
      "Current Loss on iteration 24 219.32877\n",
      "Current Loss on iteration 25 218.92157\n",
      "Current Loss on iteration 26 218.53053\n",
      "Current Loss on iteration 27 218.15497\n",
      "Current Loss on iteration 28 217.79427\n",
      "Current Loss on iteration 29 217.44788\n",
      "Current Loss on iteration 30 217.11522\n",
      "Current Loss on iteration 31 216.79572\n",
      "Current Loss on iteration 32 216.4889\n",
      "Current Loss on iteration 33 216.19423\n",
      "Current Loss on iteration 34 215.91125\n",
      "Current Loss on iteration 35 215.63942\n",
      "Current Loss on iteration 36 215.37843\n",
      "Current Loss on iteration 37 215.1277\n",
      "Current Loss on iteration 38 214.88698\n",
      "Current Loss on iteration 39 214.65575\n",
      "Current Loss on iteration 40 214.43372\n",
      "Current Loss on iteration 41 214.22044\n",
      "Current Loss on iteration 42 214.01562\n",
      "Current Loss on iteration 43 213.81894\n",
      "Current Loss on iteration 44 213.63004\n",
      "Current Loss on iteration 45 213.4486\n",
      "Current Loss on iteration 46 213.27434\n",
      "Current Loss on iteration 47 213.107\n",
      "Current Loss on iteration 48 212.94633\n",
      "Current Loss on iteration 49 212.79196\n",
      "Current Loss on iteration 50 212.64375\n",
      "Current Loss on iteration 51 212.50139\n",
      "Current Loss on iteration 52 212.36465\n",
      "Current Loss on iteration 53 212.23337\n",
      "Current Loss on iteration 54 212.10725\n",
      "Current Loss on iteration 55 211.98619\n",
      "Current Loss on iteration 56 211.86983\n",
      "Current Loss on iteration 57 211.75816\n",
      "Current Loss on iteration 58 211.65085\n",
      "Current Loss on iteration 59 211.54784\n",
      "Current Loss on iteration 60 211.44887\n",
      "Current Loss on iteration 61 211.35385\n",
      "Current Loss on iteration 62 211.26256\n",
      "Current Loss on iteration 63 211.17491\n",
      "Current Loss on iteration 64 211.09071\n",
      "Current Loss on iteration 65 211.00986\n",
      "Current Loss on iteration 66 210.93224\n",
      "Current Loss on iteration 67 210.85765\n",
      "Current Loss on iteration 68 210.78603\n",
      "Current Loss on iteration 69 210.71725\n",
      "Current Loss on iteration 70 210.65118\n",
      "Current Loss on iteration 71 210.58775\n",
      "Current Loss on iteration 72 210.52681\n",
      "Current Loss on iteration 73 210.46828\n",
      "Current Loss on iteration 74 210.4121\n",
      "Current Loss on iteration 75 210.3581\n",
      "Current Loss on iteration 76 210.30624\n",
      "Current Loss on iteration 77 210.25647\n",
      "Current Loss on iteration 78 210.20862\n",
      "Current Loss on iteration 79 210.16272\n",
      "Current Loss on iteration 80 210.11859\n",
      "Current Loss on iteration 81 210.07622\n",
      "Current Loss on iteration 82 210.03557\n",
      "Current Loss on iteration 83 209.99648\n",
      "Current Loss on iteration 84 209.95894\n",
      "Current Loss on iteration 85 209.92293\n",
      "Current Loss on iteration 86 209.88828\n",
      "Current Loss on iteration 87 209.85503\n",
      "Current Loss on iteration 88 209.82309\n",
      "Current Loss on iteration 89 209.79243\n",
      "Current Loss on iteration 90 209.76297\n",
      "Current Loss on iteration 91 209.73466\n",
      "Current Loss on iteration 92 209.70752\n",
      "Current Loss on iteration 93 209.6814\n",
      "Current Loss on iteration 94 209.65634\n",
      "Current Loss on iteration 95 209.63226\n",
      "Current Loss on iteration 96 209.60916\n",
      "Current Loss on iteration 97 209.5869\n",
      "Current Loss on iteration 98 209.5656\n",
      "Current Loss on iteration 99 209.54509\n",
      "Current Loss on iteration 100 209.5254\n",
      "Current Loss on iteration 101 209.50653\n",
      "Current Loss on iteration 102 209.48837\n",
      "Current Loss on iteration 103 209.4709\n",
      "Current Loss on iteration 104 209.4542\n",
      "Current Loss on iteration 105 209.4381\n",
      "Current Loss on iteration 106 209.42262\n",
      "Current Loss on iteration 107 209.4078\n",
      "Current Loss on iteration 108 209.39357\n",
      "Current Loss on iteration 109 209.37984\n",
      "Current Loss on iteration 110 209.3667\n",
      "Current Loss on iteration 111 209.35408\n",
      "Current Loss on iteration 112 209.34193\n",
      "Current Loss on iteration 113 209.33028\n",
      "Current Loss on iteration 114 209.31909\n",
      "Current Loss on iteration 115 209.30835\n",
      "Current Loss on iteration 116 209.298\n",
      "Current Loss on iteration 117 209.28807\n",
      "Current Loss on iteration 118 209.27856\n",
      "Current Loss on iteration 119 209.26942\n",
      "Current Loss on iteration 120 209.2606\n",
      "Current Loss on iteration 121 209.25215\n",
      "Current Loss on iteration 122 209.24403\n",
      "Current Loss on iteration 123 209.23625\n",
      "Current Loss on iteration 124 209.22874\n",
      "Current Loss on iteration 125 209.22156\n",
      "Current Loss on iteration 126 209.21468\n",
      "Current Loss on iteration 127 209.20804\n",
      "Current Loss on iteration 128 209.20164\n",
      "Current Loss on iteration 129 209.1955\n",
      "Current Loss on iteration 130 209.18962\n",
      "Current Loss on iteration 131 209.18399\n",
      "Current Loss on iteration 132 209.17854\n",
      "Current Loss on iteration 133 209.1733\n",
      "Current Loss on iteration 134 209.1683\n",
      "Current Loss on iteration 135 209.16347\n",
      "Current Loss on iteration 136 209.15883\n",
      "Current Loss on iteration 137 209.1544\n",
      "Current Loss on iteration 138 209.15013\n",
      "Current Loss on iteration 139 209.14601\n",
      "Current Loss on iteration 140 209.14209\n",
      "Current Loss on iteration 141 209.13829\n",
      "Current Loss on iteration 142 209.13463\n",
      "Current Loss on iteration 143 209.13115\n",
      "Current Loss on iteration 144 209.12778\n",
      "Current Loss on iteration 145 209.12454\n",
      "Current Loss on iteration 146 209.12144\n",
      "Current Loss on iteration 147 209.11844\n",
      "Current Loss on iteration 148 209.11557\n",
      "Current Loss on iteration 149 209.11284\n",
      "Current Loss on iteration 150 209.1102\n",
      "Current Loss on iteration 151 209.1076\n",
      "Current Loss on iteration 152 209.1052\n",
      "Current Loss on iteration 153 209.10284\n",
      "Current Loss on iteration 154 209.1006\n",
      "Current Loss on iteration 155 209.09837\n",
      "Current Loss on iteration 156 209.0963\n",
      "Current Loss on iteration 157 209.09431\n",
      "Current Loss on iteration 158 209.09238\n",
      "Current Loss on iteration 159 209.09052\n",
      "Current Loss on iteration 160 209.08871\n",
      "Current Loss on iteration 161 209.08699\n",
      "Current Loss on iteration 162 209.08534\n",
      "Current Loss on iteration 163 209.08379\n",
      "Current Loss on iteration 164 209.08224\n",
      "Current Loss on iteration 165 209.0808\n",
      "Current Loss on iteration 166 209.07938\n",
      "Current Loss on iteration 167 209.07802\n",
      "Current Loss on iteration 168 209.07669\n",
      "Current Loss on iteration 169 209.07544\n",
      "Current Loss on iteration 170 209.07425\n",
      "Current Loss on iteration 171 209.07306\n",
      "Current Loss on iteration 172 209.07199\n",
      "Current Loss on iteration 173 209.07088\n",
      "Current Loss on iteration 174 209.06987\n",
      "Current Loss on iteration 175 209.06886\n",
      "Current Loss on iteration 176 209.0679\n",
      "Current Loss on iteration 177 209.06696\n",
      "Current Loss on iteration 178 209.0661\n",
      "Current Loss on iteration 179 209.06523\n",
      "Current Loss on iteration 180 209.0644\n",
      "Current Loss on iteration 181 209.06364\n",
      "Current Loss on iteration 182 209.06287\n",
      "Current Loss on iteration 183 209.06213\n",
      "Current Loss on iteration 184 209.0614\n",
      "Current Loss on iteration 185 209.06071\n",
      "Current Loss on iteration 186 209.06009\n",
      "Current Loss on iteration 187 209.05945\n",
      "Current Loss on iteration 188 209.0588\n",
      "Current Loss on iteration 189 209.05826\n",
      "Current Loss on iteration 190 209.0577\n",
      "Current Loss on iteration 191 209.05713\n",
      "Current Loss on iteration 192 209.05663\n",
      "Current Loss on iteration 193 209.05609\n",
      "Current Loss on iteration 194 209.05562\n",
      "Current Loss on iteration 195 209.05516\n",
      "Current Loss on iteration 196 209.0547\n",
      "Current Loss on iteration 197 209.05424\n",
      "Current Loss on iteration 198 209.05385\n",
      "Current Loss on iteration 199 209.05342\n"
     ]
    }
   ],
   "source": [
    "#Train for 100 Steps\n",
    "for i in range(200):\n",
    "    \n",
    "    w, b = train(X, y, w, b, learning_rate=0.01)\n",
    "    print('Current Loss on iteration', i, \n",
    "          calcloss(y, prediction(X, w, b)).numpy())"
   ]
  },
  {
   "cell_type": "markdown",
   "metadata": {
    "id": "aifTOSdxmjmm"
   },
   "source": [
    "After one point of iterration the loss was having a very small increment to 209. With more hyperparm tuning we can even reduce loss."
   ]
  },
  {
   "cell_type": "markdown",
   "metadata": {
    "id": "vanvD93FV0_k"
   },
   "source": [
    "### Observe values of Weight\n",
    "- Print the updated values"
   ]
  },
  {
   "cell_type": "code",
   "execution_count": 48,
   "metadata": {
    "colab": {
     "base_uri": "https://localhost:8080/"
    },
    "id": "QSqpy4gtWaOD",
    "outputId": "cf982cd8-bc1f-4239-e918-852057441a5b"
   },
   "outputs": [
    {
     "data": {
      "text/plain": [
       "<tf.Tensor: shape=(4, 1), dtype=float32, numpy=\n",
       "array([[-0.00866881],\n",
       "       [-0.00822744],\n",
       "       [-0.00831046],\n",
       "       [-0.00848581]], dtype=float32)>"
      ]
     },
     "execution_count": 48,
     "metadata": {
      "tags": []
     },
     "output_type": "execute_result"
    }
   ],
   "source": [
    "w"
   ]
  },
  {
   "cell_type": "markdown",
   "metadata": {
    "id": "y9KpRupYUEwy"
   },
   "source": [
    "### Observe values of Bias\n",
    "- Print the updated values"
   ]
  },
  {
   "cell_type": "code",
   "execution_count": 49,
   "metadata": {
    "colab": {
     "base_uri": "https://localhost:8080/"
    },
    "id": "bhEWkGqHWohg",
    "outputId": "cf2decfb-14ac-4158-bdb9-f4f515b6b426"
   },
   "outputs": [
    {
     "data": {
      "text/plain": [
       "<tf.Tensor: shape=(1,), dtype=float32, numpy=array([5.220549], dtype=float32)>"
      ]
     },
     "execution_count": 49,
     "metadata": {
      "tags": []
     },
     "output_type": "execute_result"
    }
   ],
   "source": [
    "b"
   ]
  },
  {
   "cell_type": "code",
   "execution_count": null,
   "metadata": {
    "id": "4YKhQUqkj9am"
   },
   "outputs": [],
   "source": []
  }
 ],
 "metadata": {
  "colab": {
   "collapsed_sections": [],
   "name": "R6_INNDL_Lab.ipynb",
   "provenance": []
  },
  "kernelspec": {
   "display_name": "Python 3",
   "language": "python",
   "name": "python3"
  },
  "language_info": {
   "codemirror_mode": {
    "name": "ipython",
    "version": 3
   },
   "file_extension": ".py",
   "mimetype": "text/x-python",
   "name": "python",
   "nbconvert_exporter": "python",
   "pygments_lexer": "ipython3",
   "version": "3.8.3"
  }
 },
 "nbformat": 4,
 "nbformat_minor": 1
}
